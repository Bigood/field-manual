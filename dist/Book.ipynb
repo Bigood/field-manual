<h1 id="part-1-the-orbitdb-tutorial">Part 1: The OrbitDB Tutorial</h1>
<blockquote>
<p>An interactive, imperative and isometric JavaScript adventure of peer-to-peer, decentralized, and distributed proportions</p>
</blockquote>
<h2 id="introduction">Introduction</h2>
<h3 id="requirements">Requirements</h3>
<ul>
<li>A computer</li>
<li>A command line (unix/linux based or windows command prompt)</li>
<li>A modern web browser (Firefox, Chrome, Edge, etc)</li>
<li>Node.js installed</li>
</ul>
<h3 id="what-will-i-build">What will I build?</h3>
<p>You will build an app that provides royalty-free sheet music on-demand for musicians, based on their instrument.</p>
<p>You will access a global catalog of royalty-free sheet music. Then, given an instrument name as input (Violin, Saxophone, Marimba) you it will display piece of sheet music at random. Futhermore, you will give the users the ability to submit their own music and share it with connected peers.</p>
<p>You will use OrbitDB as the backbone for this, creating a few databases:</p>
<ol style="list-style-type: decimal">
<li>The &quot;global&quot; starter database of royalty free pieces for all to use (read only)</li>
<li>The user database of pieces they can upload - private</li>
</ol>
<p>You will write JavaScript and create the backbone of a full application using OrbitDB in both the browser and on the command line. For the sake of keeping things focused, we will exclude any HTML or CSS from this tutorial and focus only on the Javascript code.</p>
<h3 id="why-a-music-app">Why a music app?</h3>
<p>OrbitDB is already used all over the world, and this tutorial music reflect that. There are other many topics we could have chosen that touch the vast majority of humans on earth: finance, politics, climate, religion. However, those are generally contentious and complicated.</p>
<p>We believe that <strong>music</strong> is a uniquely universal cultural feature - something that we more humans than any other topic share, enjoy, or at least appreciate. Your participation in this tutorial will make it easier for musicians all over the world to find sheet music to practice with.</p>
<h3 id="conventions">Conventions</h3>
<ul>
<li>Read this tutorial in order, the learning builds on itself other over time.</li>
<li>You will switch between writing and reading code, and <em>What Just Happened</em> sections that explain in depth what happens on a technical level when the code is run.</li>
<li>OrbitDB works in both node.js and in the browser, and this tutorial will not focus on one or the other. Stay on your toes.</li>
<li>This tutorial is not only OS-agnostic and editor-agnostic, it's also folder structure agnostic. All of the code examples are designed to work if applied in order, regardless of which js file they are in. Thus folder and file names for code are avoided.</li>
<li><code>async</code> and <code>await</code> are used prominently. Feel free to replace those with explicit <code>Promise</code> objects if you're feeling daring.</li>
</ul>
<p>Ready? Let's start with <a href="./01_Basics.md">Chapter 1: Laying the Foundation</a> ## Chapter 1 - Laying the Foundation</p>
<blockquote>
<p>The basics of OrbitDB include <em>installing OrbitDB (and IPFS)</em>, <em>setting up a new isomorphic project</em>, <em>creating databases</em>, and how <em>understanding how to choose data stores</em>.</p>
</blockquote>
<div>
<h3>
Table of Contents
</h3>
<p>Please see the <a href="./README.md">README</a> before beginning this chapter.</p>
<ul>
<li><a href="#installing-the-requirements-ipfs-and-orbitdb">Installing the requirements: IPFS and OrbitDB</a></li>
<li><a href="#instantiating-ipfs-and-orbitdb">Instantiating IPFS and OrbitDB</a></li>
<li><a href="#creating-a-database">Creating a Database</a></li>
<li><a href="#choosing-a-data-store">Choosing a data store</a></li>
<li><a href="#key-takeaways">Key Takeaways</a></li>
</ul>
</div>
<h3 id="installing-the-requirements-ipfs-and-orbitdb">Installing the requirements: IPFS and OrbitDB</h3>
<p>You will need to get the code for OrbitDB and its dependency, IPFS, and make it available to your project. The process is different between the browser and node.js, so we cover both here.</p>
<h4 id="in-node.js">In node.js</h4>
<p>Choose a project directory and <code>cd</code> to there from your command line. Then run the following command.</p>
<div class="sourceCode"><pre class="sourceCode bash"><code class="sourceCode bash">$ <span class="ex">npm</span> init
<span class="ex">...</span> enter commands to create package.json ...

$ <span class="ex">npm</span> install orbitdb ipfs</code></pre></div>
<p>This will create a <code>package.json</code>, <code>package.lock</code>, and <code>node_modules</code> folder.</p>
<h4 id="in-the-browser">In the Browser</h4>
<p>For this tutorial, we recommend using unpkg for obtaining pre-built, minified versions of both IPFS and OrbitDB. Simply include these at the top of your <code>index.html</code> file:</p>
<div class="sourceCode"><pre class="sourceCode html"><code class="sourceCode html"><span class="kw">&lt;script</span><span class="ot"> src=</span><span class="st">&quot;https://unpkg.com/ipfs/dist/index.min.js&quot;</span><span class="kw">&gt;&lt;/script&gt;</span>
<span class="kw">&lt;script</span><span class="ot"> src=</span><span class="st">&quot;https://www.unpkg.com/orbit-db/src/OrbitDB.js&quot;</span><span class="kw">&gt;&lt;/script&gt;</span></code></pre></div>
<p>You will now have global <code>Ipfs</code> and <code>OrbitDB</code> objects available to you. You will see how we'll use these later.</p>
<blockquote>
<p><strong>Note:</strong> Both OrbitDB and js-ipfs are open source, which give you the ability to build and even contribute to the code. This will be covered in detail these in Part 3.</p>
</blockquote>
<h3 id="creating-the-isomorphic-frame-for-our-app">Creating the isomorphic frame for our app</h3>
<p>Since OrbitDB works in the browser and node.js, we're going to want to make our app as <em>isomorphic</em> as possoble. This means we want the same code to run in the browser as runs in JS. This is good news for the tutorial, as it means we can keep our code to <strong>strictly</strong> things that pertain to our app, and then apply bindings in node.js and</p>
<p>Luckily, you will have the luxury of using the same language, JavaScript, for both node.js and browser environments. Create a new file called <code>newpieceplease.js</code> and put this code in there:</p>
<div class="sourceCode"><pre class="sourceCode javascript"><code class="sourceCode javascript"><span class="cf">try</span> <span class="op">{</span>
  <span class="kw">const</span> Ipfs <span class="op">=</span> <span class="at">require</span>(<span class="st">&#39;ipfs&#39;</span>)
  <span class="kw">const</span> OrbitDB <span class="op">=</span> <span class="at">require</span>(<span class="st">&#39;orbit-db&#39;</span>)
<span class="op">}</span> <span class="cf">catch</span>(e) <span class="op">{}</span>

<span class="kw">class</span> <span class="at">NewPiecePlease</span>() <span class="op">{</span>
  <span class="at">constructor</span>(IPFS<span class="op">,</span> OrbitDB) <span class="op">{</span> <span class="op">}</span>
<span class="op">}</span>

<span class="cf">try</span> <span class="op">{</span>
  <span class="va">module</span>.<span class="at">exports</span> <span class="op">=</span> exports <span class="op">=</span> <span class="kw">new</span> <span class="at">NewPiecePlease</span>(IPFS<span class="op">,</span> OrbitDB)
<span class="op">}</span> <span class="cf">catch</span> (e) <span class="op">{</span>
  <span class="va">window</span>.<span class="at">NPP</span> <span class="op">=</span> <span class="kw">new</span> <span class="at">NewPiecePlease</span>(<span class="va">window</span>.<span class="at">Ipfs</span><span class="op">,</span> <span class="va">window</span>.<span class="at">OrbitDB</span>)
<span class="op">}</span></code></pre></div>
<h4 id="what-just-happened">What just happened?</h4>
<p>Using some key JavaScript features, you have created the shell for our application that runs in both node.js and the browser. It defines a new class called <code>NewPiecePlease</code>, with a constructor that takes two arguments</p>
<ol style="list-style-type: decimal">
<li><code>IPFS</code> for the <code>js-ipfs</code> constructor</li>
<li><code>OrbitDB</code> for the <code>orbit-db</code> constructor</li>
</ol>
<p>In the browser, you can include this file in a script tag and have an <code>NPP</code> object at your disposal. In node.js, you can simply call something like:</p>
<div class="sourceCode"><pre class="sourceCode javascript"><code class="sourceCode javascript"><span class="kw">const</span> NPP <span class="op">=</span> <span class="at">require</span>(<span class="st">&#39;./newpieceplease&#39;</span>)</code></pre></div>
<p>From here on out, we will ignore these isometric bookends and concentrate wholly on the <code>NewPiecePlease</code> class.</p>
<h3 id="instantiating-ipfs-and-orbitdb">Instantiating IPFS and OrbitDB</h3>
<p>We have designed Chapters 1 and 2 of the tutorial to work work offline, not requiring any internet connectivity or connections to peers.</p>
<p>OrbitDB requires a running IPFS node to operate, so you will create one here and notify OrbitDB about it. by running the following code. It's a lot but it constitutes the frame for an <em>isomorphic</em> JavaScript app, that is, one that runs in both the browser and in node.js with the same code.</p>
<div class="sourceCode"><pre class="sourceCode javascript"><code class="sourceCode javascript"><span class="kw">class</span> <span class="at">NewPiecePlease</span>() <span class="op">{</span>
  <span class="at">constructor</span>(IPFS<span class="op">,</span> OrbitDB) <span class="op">{</span>
    <span class="kw">let</span> node <span class="op">=</span> <span class="kw">new</span> <span class="at">IPFS</span>(<span class="op">{</span>
      <span class="dt">preload</span><span class="op">:</span> <span class="op">{</span> <span class="dt">enabled</span><span class="op">:</span> <span class="kw">false</span> <span class="op">},</span>
      <span class="dt">repo</span><span class="op">:</span> <span class="st">&quot;./ipfs&quot;</span><span class="op">,</span>
      <span class="dt">EXPERIMENTAL</span><span class="op">:</span> <span class="op">{</span> <span class="dt">pubsub</span><span class="op">:</span> <span class="kw">true</span> <span class="op">},</span>
      <span class="dt">config</span><span class="op">:</span> <span class="op">{</span>
        <span class="dt">Bootstrap</span><span class="op">:</span> []<span class="op">,</span>
        <span class="dt">Addresses</span><span class="op">:</span> <span class="op">{</span> <span class="dt">Swarm</span><span class="op">:</span> [] <span class="op">}</span>
      <span class="op">}</span>
    <span class="op">}</span>)<span class="op">;</span>

    <span class="va">node</span>.<span class="at">on</span>(<span class="st">&quot;error&quot;</span><span class="op">,</span> (e) <span class="op">=&gt;</span> <span class="op">{</span> <span class="cf">throw</span> <span class="kw">new</span> <span class="at">Error</span>(e) <span class="op">}</span>)
    <span class="va">node</span>.<span class="at">on</span>(<span class="st">&quot;ready&quot;</span><span class="op">,</span> <span class="at">async</span> () <span class="op">=&gt;</span> <span class="op">{</span>
      orbitdb <span class="op">=</span> await <span class="va">OrbitDB</span>.<span class="at">createInstance</span>(node)
      <span class="va">console</span>.<span class="at">log</span>(<span class="va">orbitdb</span>.<span class="at">id</span>)
    <span class="op">}</span>)
  <span class="op">}</span>
<span class="op">}</span></code></pre></div>
<p>In the output you will see something called a &quot;multihash&quot;, like <code>QmPSicLtjhsVifwJftnxncFs4EwYTBEjKUzWweh1nAA87B</code>. For now, just know that this is the identifier of your IPFS node. We explain multihashes in more detail in <strong>Part 2: Peer-to-Peer</strong></p>
<h4 id="what-just-happened-1">What just happened?</h4>
<p>Start with the <code>new Ipfs</code> line. This code creates a new IPFS node. Note the default settings:</p>
<ul>
<li><code>preload: { enabled: false }</code> disables the use of so-called &quot;pre-load&quot; IPFS nodes. These nodes exist to help load balance the global network and prevent DDoS. However, these nodes can go down and cause errors. Since we are only working offline for now, we include this line to disable them.</li>
<li><code>repo: './ipfs'</code> designates the path of the repo in node.js only. In the browser, you can actually remove this line. The default setting is a folder called <code>.jsipfs</code> in your home directory. You will see why we choose this acute location for the folder later.</li>
<li><code>XPERIMENTAL: { pubsub: true }</code> enables IPFS pubsub, which is a method of communicating between nodes and is required for OrbitDB usage, despite whether or not we are connected to other peers.</li>
<li><code>config: { Bootstrap: [], Addresses: { Swarm: [] }}</code> sets both our bootstrap peers list (peers that are loaded on instantiation) and swarm peers list (peers that can connect and disconnect at any time to empty. We will populate these later.</li>
<li><code>node.on(&quot;error&quot;, (e) =&gt; { throw new Error(e) })</code> implements extremely basic error handling for if something happens during node creation</li>
<li><code>node.on(&quot;ready&quot;, (e) =&gt; { orbitdb = new OrbitDB(node) })</code> instantiates OrbitDB on top of the IPFS node, when it is ready.</li>
</ul>
<p>By running the code above, you have created a new IPFS node that works locally and is not connected to any peers. You have also loaded a new <code>orbitdb</code> object into memory, ready to create databases and manage data.</p>
<p><em>You are now ready to use OrbitDB!</em></p>
<h5 id="what-else-happened-in-node.js">What else happened in node.js?</h5>
<p>When you ran the code in node.js, you created two folders in your project structure: <code>'orbitdb/</code> and <code>ipfs/</code>.</p>
<div class="sourceCode"><pre class="sourceCode bash"><code class="sourceCode bash">$ <span class="co"># slashes added to ls output for effect</span>
$ <span class="fu">ls</span> orbitdb/
<span class="ex">QmNrPunxswb2Chmv295GeCvK9FDusWaTr1ZrYhvWV9AtGM/</span>

$ <span class="fu">ls</span> ipfs/
<span class="ex">blocks/</span>  config  datastore/  datastore_spec  keys/  version</code></pre></div>
<p>The code will always create the <code>orbitdb/</code> folder as a sibling to the location specified in the <code>repo</code> paramater of the IPFS constructor options. Looking inside of the <code>orbitdb/</code> folder, you will see that the subfolder has the same ID as orbitdb, as well as the IPFS node. This is purposeful, as this initial folder contains metadata that OrbitDB will need to operate. See Part 3 for detailed information about this.</p>
<blockquote>
<p><em>Note:</em> The <code>ipfs/</code> folder contains all of your IPFS data. Explaining this in depth is outside of the scope of this tutorial, and the curious can find out more <a href="https://ipfs.io">here</a>.</p>
</blockquote>
<h5 id="what-else-happened-in-the-browser">What else happened in the browser?</h5>
<p>In the browser IPFS content is handled inside of IndexedDB, a persistent storage mechanism for browsers</p>
<div class="figure">
<img src="../images/ipfs_browser.png" alt="An image showing the IPFS IndexedDB databases in Firefox" />
<p class="caption">An image showing the IPFS IndexedDB databases in Firefox</p>
</div>
<p>Note since you have not explicitly defined a database in the broser, no IndexedDB databases have been created for OrbitDB yet.</p>
<blockquote>
<p><strong>Caution!</strong> iOS and Android have been known to purge IndexedDB if storage space needs to be created inside of your phone. We recommend creating robust backup mechanisms at the application layer</p>
</blockquote>
<h3 id="creating-a-database">Creating a Database</h3>
<p>Now, you will create a local database that <em>only you</em> can read.</p>
<p>Inside of the <code>NewPiecePlease</code> constructor, Expand the IPFS <code>ready</code> event handler to the following, and then run the code:</p>
<div class="sourceCode"><pre class="sourceCode javascript"><code class="sourceCode javascript"><span class="va">node</span>.<span class="at">on</span>(<span class="st">&quot;ready&quot;</span><span class="op">,</span> <span class="at">async</span> () <span class="op">=&gt;</span> <span class="op">{</span>
  orbitdb <span class="op">=</span> await <span class="va">OrbitDB</span>.<span class="at">createInstance</span>(node)

  <span class="kw">const</span> options <span class="op">=</span> <span class="op">{</span>
    <span class="dt">accessController</span><span class="op">:</span> <span class="op">{</span> <span class="dt">write</span><span class="op">:</span> [<span class="va">orbitdb</span>.<span class="va">identity</span>.<span class="at">publicKey</span>] <span class="op">},</span>
    <span class="dt">indexBy</span><span class="op">:</span> <span class="st">&quot;hash&quot;</span>
  <span class="op">}</span>
  
  piecesDb <span class="op">=</span> await <span class="va">orbitdb</span>.<span class="at">docstore</span>(<span class="st">&#39;pieces&#39;</span><span class="op">,</span> options)
  <span class="va">console</span>.<span class="at">log</span>(<span class="va">piecesDb</span>.<span class="at">id</span>)
<span class="op">}</span>)</code></pre></div>
<p>You will see something like the following as an output: <code>/orbitdb/zdpuB3VvBJHqYCocN4utQrpBseHou88mq2DLh7bUkWviBQSE3/pieces</code>. This is the id, or <strong>address</strong> (technically a multiaddress) of this database. It's important for you to not only <em>know</em> this, but also to understand what it is.</p>
<p>The first bit, <code>/orbitdb</code>, is the protocol. It tells you that this address is an OrbitDB address. The last bit, <code>pieces</code> is simply the name you provided.</p>
<p>It's the second, or middle, part <code>zdpuB3VvBJHqYCocN4utQrpBseHou88mq2DLh7bUkWviBQSE3</code> that is the most interesting. This value comes from the combining three pieces of data, and then hashing them:</p>
<ol style="list-style-type: decimal">
<li>The <strong>access control list</strong> of the database</li>
<li>The <strong>type</strong> of the database</li>
<li>The <strong>name</strong> of the database</li>
</ol>
<blockquote>
<p><em>Note:</em> Misunderstanding OrbitDB addressing can lead to some very unexpected - sometimes hilarious, sometimes disastrous outcomes. Read more in Part 2 to learn more.</p>
</blockquote>
<h4 id="what-just-happened-2">What just happened?</h4>
<p>Your code created a local OrbitDB database, of type &quot;docstore&quot;, writable only by you.</p>
<ul>
<li>The <code>options</code> defines the paramaters for the database we are about to create.</li>
<li><code>accessController: { write: [orbitdb.identity.publicKey] }</code> defines the ACL, or &quot;Access Control List&quot;. In this instance we are restricting <code>write</code> access to ONLY orbitdb instances identified by our particular <code>publicKey</code></li>
<li><code>indexBy: &quot;hash&quot;</code> is a docstore-specific option, which specifies which field to index our database by</li>
<li><code>pieces = await orbitdb.docstore('pieces', options)</code> is the magic line that creates the database. Once this line is completed, the database is open and can be acted upon.</li>
</ul>
<blockquote>
<p><strong>Caution!</strong> A note about identity: Your public key is not your identity. We repeat, <em>your public key is not your identity</em>. Though, it is often used as such for convenience's sake, and the lack of better alternatives. So, in the early parts of this tutorial we say &quot;writable only to you&quot; when we really mean &quot;writable only by an OrbitDB instance on top of an IPFS node that has the correct id, which we are assuming is controlled by you.&quot;</p>
</blockquote>
<p>See for more info: <a href="https://github.com/orbitdb/orbit-db/blob/525978e0a916a8b027e9ea73d8736acb2f0bc6b4/src/OrbitDB.js#L106">link</a></p>
<h5 id="what-else-happened-in-node.js-1">What else happened in node.js?</h5>
<p>You will see some activity inside your project's <code>orbitdb/</code> folder. This is good.</p>
<div class="sourceCode"><pre class="sourceCode bash"><code class="sourceCode bash">$ <span class="fu">ls</span> orbitdb/
<span class="ex">QmNrPunxswb2Chmv295GeCvK9FDusWaTr1ZrYhvWV9AtGM/</span>  zdpuB3VvBJHqYCocN4utQrpBseHou88mq2DLh7bUkWviBQSE3/

$ <span class="fu">ls</span> orbitdb/zdpuB3VvBJHqYCocN4utQrpBseHou88mq2DLh7bUkWviBQSE3/
<span class="ex">pieces/</span>

$ <span class="fu">ls</span> orbitdb/zdpuB3VvBJHqYCocN4utQrpBseHou88mq2DLh7bUkWviBQSE3/pieces/
<span class="ex">000003.log</span>  CURRENT  LOCK  LOG  MANIFEST-000002</code></pre></div>
<p>You don't need to understand this fully for now, just know that it happened. Two subfolders, one being the original folder you saw when you instantiated OrbitDB, and now another that has the same address as your database.</p>
<h5 id="what-else-happened-in-the-browser-1">What else happened in the browser?</h5>
<p>Similarly, a new IndexedDB database was created to hold your OrbitDB-specific info, apart from the data itself which are still stored in IPFS.</p>
<div class="figure">
<img src="../images/ipfs_browser_2.png" alt="An image showing the IPFS and OrbitDB IndexedDB databases in Firefox" />
<p class="caption">An image showing the IPFS and OrbitDB IndexedDB databases in Firefox</p>
</div>
<p>This shows you one of OrbitDB's core strenths - the ability to manage a lot of complexity between its own internals and tht of IPFS, providing a clear and clean API to manage the data that matters to you.</p>
<h3 id="choosing-a-data-store">Choosing a data store</h3>
<p>OrbitDB organizes its functionality by separating different data management concerns, schemas and APIs into <strong>stores</strong>. We chose a <code>docstore</code> for you in the last chapter, but after this tutorial it will be your job to determine the right store for the job.</p>
<p>At your disposal you have:</p>
<ul>
<li><strong><a href="https://github.com/orbitdb/orbit-db/blob/master/API.md#orbitdblognameaddress">log</a></strong>: an immutable (append-only) log with traversable history. Useful for <em>&quot;latest N&quot;</em> use cases or as a message queue.</li>
<li><strong><a href="https://github.com/orbitdb/orbit-db/blob/master/API.md#orbitdbfeednameaddress">feed</a></strong>: a mutable log with traversable history. Entries can be added and removed. Useful for <em>&quot;shopping cart&quot;</em> type of use cases, or for example as a feed of blog posts or &quot;tweets&quot;.</li>
<li><strong><a href="https://github.com/orbitdb/orbit-db/blob/master/API.md#orbitdbkeyvaluenameaddress">keyvalue</a></strong>: a key-value database just like your favourite key-value database.</li>
<li><strong><a href="https://github.com/orbitdb/orbit-db/blob/master/API.md#orbitdbdocsnameaddress-options">docs</a></strong>: a document database to which JSON documents can be stored and indexed by a specified key. Useful for building search indices or version controlling documents and data.</li>
<li><strong><a href="https://github.com/orbitdb/orbit-db/blob/master/API.md#orbitdbcounternameaddress">counter</a></strong>: Useful for counting events separate from log/feed data.</li>
</ul>
<p>Each OrbitDB store has its own specific API methods to create, delete, retreieve and update data. In general, you can expect to always have something like a <code>get</code> and something like a <code>put</code>.</p>
<p>Also, users of OrbitDB can write their own stores if it suits them. This is an advanced topic and is covered in Part 3 of this book.</p>
<h3 id="key-takeaways">Key Takeaways</h3>
<ul>
<li>OrbitDB is a distributed database layer which stores its raw data in IPFS</li>
<li>Both IPFS and OrbitDB work offline and online</li>
<li>OrbitDB instances have an <em>ID</em> which is the same as the underling IPFS node's ID.</li>
<li>OrbitDB instances create databases, which have unique <em>addresses</em></li>
<li>Basic access rights to OrbitDB databases are managed using access control lists (or ACLs), based on the ID of the IPFS node performing the requests on the database</li>
<li>OrbitDB database addresses are hashes of the database's ACL, its type, and its name.</li>
<li>Since OrbitDB and IPFS are written in JavaScript, it is possible to build isomorphic applications that run in the browser and in node.js</li>
<li>OrbitDB manages needed flexibility of schema and API design in functionality called <strong>stores</strong>.</li>
<li>OrbitDB comes with a handful of stores, and you can write your own.</li>
<li>Each store will have its own API, but you will generally have at least a <code>get</code> and a <code>put</code></li>
</ul>
<p>Now that you've laid the groudnwork, you'll learn how to work with data! Onward, then, to <a href="./02_Managing_Data.md">Chapter 2: Managing Data</a>.</p>
<ul>
<li>Resolves #<a href="https://github.com/orbitdb/orbit-db/issues/367">367</a></li>
<li>Resolves #<a href="https://github.com/orbitdb/orbit-db/issues/366">366</a></li>
<li>Resolves #<a href="https://github.com/orbitdb/orbit-db/issues/502">502</a> ## Chapter 2 - Managing Data</li>
</ul>
<blockquote>
<p>Managing data in OrbitDB involves <em>loading databases into memory</em>, and then <em>creating</em>, <em>updating</em>, <em>reading</em>, and <em>deleting data</em>.</p>
</blockquote>
<div>
<h3>
Table of Contents
</h3>
<p>Please complete <a href="./01_Basics.md">Chapter 1 - Laying the Foundation</a> first.</p>
<ul>
<li><a href="#loading-the-database">Loading the database</a></li>
<li><a href="#adding-data">Adding data</a></li>
<li><a href="#reading-data">Reading data</a></li>
<li><a href="#updating-and-deleting-data">Updating and deleting data</a></li>
<li><a href="#storing-media-files">Storing media files</a></li>
<li><a href="#key-takeaways">Key Takeaways</a></li>
</ul>
</div>
<h3 id="loading-the-database">Loading the database</h3>
<p>To start, you'll do a couple of things to enhance our current code and tidy up. We will also scaffold out some functions to be filled in later.</p>
<p>Update your <code>NewPiecePlease class</code> handler, adding <strong>one line</strong> at the bottom of the IPFS <code>ready</code> handler. and then run this code:</p>
<div class="sourceCode"><pre class="sourceCode javascript"><code class="sourceCode javascript"><span class="kw">class</span> NewPiecePlease <span class="op">{</span>
  <span class="at">constructor</span> (IPFS<span class="op">,</span> OrbitDB) <span class="op">{</span>
    <span class="kw">this</span>.<span class="at">node</span> <span class="op">=</span> <span class="kw">new</span> <span class="at">IPFS</span>(<span class="op">{</span>
      <span class="dt">preload</span><span class="op">:</span> <span class="op">{</span> <span class="dt">enabled</span><span class="op">:</span> <span class="kw">false</span> <span class="op">},</span>
      <span class="dt">EXPERIMENTAL</span><span class="op">:</span> <span class="op">{</span> <span class="dt">pubsub</span><span class="op">:</span> <span class="kw">true</span> <span class="op">},</span>
      <span class="dt">repo</span><span class="op">:</span> <span class="st">&quot;./ipfs&quot;</span><span class="op">,</span>
      <span class="dt">config</span><span class="op">:</span> <span class="op">{</span>
        <span class="dt">Bootstrap</span><span class="op">:</span> []<span class="op">,</span>
        <span class="dt">Addresses</span><span class="op">:</span> <span class="op">{</span> <span class="dt">Swarm</span><span class="op">:</span> [] <span class="op">}</span>
      <span class="op">}</span>
    <span class="op">}</span>)<span class="op">;</span>

    <span class="kw">this</span>.<span class="va">node</span>.<span class="at">on</span>(<span class="st">&quot;error&quot;</span><span class="op">,</span> (e) <span class="op">=&gt;</span> <span class="va">console</span>.<span class="at">error</span>)
    <span class="kw">this</span>.<span class="va">node</span>.<span class="at">on</span>(<span class="st">&quot;ready&quot;</span><span class="op">,</span> <span class="at">async</span> () <span class="op">=&gt;</span> <span class="op">{</span>
      <span class="kw">this</span>.<span class="at">orbitdb</span> <span class="op">=</span> await <span class="va">OrbitDB</span>.<span class="at">createInstance</span>(<span class="kw">this</span>.<span class="at">node</span>)

      <span class="kw">const</span> options <span class="op">=</span> <span class="op">{</span>
        <span class="dt">accessController</span><span class="op">:</span> <span class="op">{</span> <span class="dt">write</span><span class="op">:</span> [<span class="kw">this</span>.<span class="va">orbitdb</span>.<span class="va">identity</span>.<span class="at">publicKey</span>] <span class="op">},</span>
        <span class="dt">indexBy</span><span class="op">:</span> <span class="st">&#39;hash&#39;</span>
      <span class="op">}</span>

      <span class="kw">this</span>.<span class="at">piecesDb</span> <span class="op">=</span> await <span class="kw">this</span>.<span class="va">orbitdb</span>.<span class="at">docstore</span>(<span class="st">&#39;pieces&#39;</span><span class="op">,</span> options)
      await <span class="kw">this</span>.<span class="va">piecesDb</span>.<span class="at">load</span>()  <span class="co">// It&#39;s only this line that changed!! Blink and you&#39;ll miss it</span>
    <span class="op">}</span>)<span class="op">;</span>
  <span class="op">}</span>

  async <span class="at">addNewPiece</span>() <span class="op">{</span> <span class="op">}</span>
  async <span class="at">deletePieceByHash</span>() <span class="op">{</span> <span class="op">}</span>
  <span class="at">getAllPieces</span>() <span class="op">{}</span>
  <span class="at">getPiecesByInstrument</span>() <span class="op">{</span> <span class="op">}</span>
  <span class="at">getPieceByHash</span>() <span class="op">{</span> <span class="op">}</span>
  await <span class="at">updatePieceByHash</span>()
<span class="op">}</span></code></pre></div>
<h4 id="what-just-happened-3">What just happened?</h4>
<p>After you instantiated the database, you loaded its contents into memory for use. It's empty for now, but not for long! Loading the database at this point after instantiation will save you trouble later.</p>
<ul>
<li><code>await piecesDb.load()</code> is a function that will need to be called whenever we want the latest and greatest snapshot of data in the database. <code>load()</code> retrieves all of the values via their <em>content addresses</em> and loads the content into memory</li>
</ul>
<blockquote>
<p><strong>Note:</strong> You're probably wondering about if you have a large database of millions of documents, and the implications of loading them all into memory. It's a valid concern, and you should move on to Part 4 of this book once you're done with the tutorial.</p>
</blockquote>
<h3 id="adding-data">Adding data</h3>
<p>Now that you have a database set up, adding content to it is fairly easy. Run the following code to add some sheet music to the repository.</p>
<p>We have uploaded and pinned a few piano scores to IPFS, and will provide the hashes. You can add these hashes to your database by fleshing out and using the <code>addNewPiece</code> function.</p>
<blockquote>
<p><strong>Note:</strong> We hope you like the original Metroid game, or at least the music from it!</p>
</blockquote>
<div class="sourceCode"><pre class="sourceCode javascript"><code class="sourceCode javascript">async <span class="at">addNewPiece</span>(hash<span class="op">,</span> instrument <span class="op">=</span> <span class="st">&quot;Piano&quot;</span>) <span class="op">{</span>
  <span class="kw">const</span> cid <span class="op">=</span> await <span class="va">piecesDb</span>.<span class="at">put</span>(<span class="op">{</span> hash<span class="op">,</span> instrument <span class="op">}</span>)
  <span class="cf">return</span> cid
<span class="op">}</span></code></pre></div>
<p>Then, in your application code, node.js or browser, you cna use this function like so, utilizing the detault value for the <code>instrument</code> argument.</p>
<div class="sourceCode"><pre class="sourceCode javascript"><code class="sourceCode javascript"><span class="kw">const</span> cid <span class="op">=</span> <span class="va">NPP</span>.<span class="at">addNewPiece</span>(<span class="st">&quot;QmNR2n4zywCV61MeMLB6JwPueAPqheqpfiA4fLPMxouEmQ&quot;</span>)
<span class="kw">const</span> content <span class="op">=</span> await <span class="va">NPP</span>.<span class="va">node</span>.<span class="va">dag</span>.<span class="at">get</span>(cid)
<span class="va">console</span>.<span class="at">log</span>(<span class="va">content</span>.<span class="va">value</span>.<span class="at">payload</span>)</code></pre></div>
<p>Running this code should give you something like the following output. Hold steady, it's overwhelming but it will make sense after we explain what happened. For more information see Part 3.</p>
<div class="sourceCode"><pre class="sourceCode json"><code class="sourceCode json"><span class="fu">{</span>
  <span class="dt">&quot;op&quot;</span><span class="fu">:</span><span class="st">&quot;PUT&quot;</span><span class="fu">,</span>
  <span class="dt">&quot;key&quot;</span><span class="fu">:</span><span class="st">&quot;QmNR2n4zywCV61MeMLB6JwPueAPqheqpfiA4fLPMxouEmQ&quot;</span><span class="fu">,</span>
  <span class="dt">&quot;value&quot;</span><span class="fu">:</span> <span class="fu">{</span>
    <span class="dt">&quot;hash&quot;</span><span class="fu">:</span><span class="st">&quot;QmNR2n4zywCV61MeMLB6JwPueAPqheqpfiA4fLPMxouEmQ&quot;</span><span class="fu">,</span>
    <span class="dt">&quot;instrument&quot;</span><span class="fu">:</span><span class="st">&quot;Accordion&quot;</span>
  <span class="fu">}</span>
<span class="fu">}</span></code></pre></div>
<h4 id="what-just-happened-4">What just happened?</h4>
<ul>
<li><code>piecesDb.put({ ... })</code> is the most important line here. This call takes an object to sture and returns a <em>mutlihash</em>, which is the hash of the content added to IPFS.</li>
<li><code>node.dag.get(hash)</code> is a function that takes a Content ID (CID) and returns content.</li>
<li><code>&quot;op&quot;: &quot;PUT&quot;</code>is a notable part of the output. At the core of OrbitDB databases is the <strong>OPLOG</strong>, where all data are stored as a log of operations, which are then calculated into the appropriate schema for application use. The operation is specified here as a <code>PUT</code>, and then the <code>key</code>/<code>value</code> pair is your data.</li>
</ul>
<blockquote>
<p><strong>Note:</strong> &quot;dag&quot; in the code refers to the acronym DAG, which stands for Directed Acyclic Graph. This is a data structure that is, or is at least closely related to Blockchain. More on this in Part 4</p>
</blockquote>
<p>You can repeat this process to add more hashes from the NES Metroid soundtrack:</p>
<pre class="plain"><code>QmNR2n4zywCV61MeMLB6JwPueAPqheqpfiA4fLPMxouEmQ | Metroid - Ending Theme.pdf
QmRn99VSCVdC693F6H4zeS7Dz3UmaiBiSYDf6zCEYrWynq | Metroid - Escape Theme.pdf
QmdzDacgJ9EQF9Z8G3L1fzFwiEu255Nm5WiCey9ntrDPSL | Metroid - Game Start.pdf
QmcFUvG75QTMok9jrteJzBUXeoamJsuRseNuDRupDhFwA2 | Metroid - Item Found.pdf
QmTjszMGLb5gKWAhFZbo8b5LbhCGJkgS8SeeEYq3P54Vih | Metroid - Kraids Hideout.pdf
QmNfQhx3WvJRLMnKP5SucMRXEPy9YQ3V1q9dDWNC6QYMS3 | Metroid - Norfair.pdf
QmQS4QNi8DCceGzKjfmbBhLTRExNboQ8opUd988SLEtZpW | Metroid - Ridleys Hideout.pdf
QmcJPfExkBAZe8AVGfYHR7Wx4EW1Btjd5MXX8EnHCkrq54 | Metroid - Silence.pdf
Qmb1iNM1cXW6e11srUvS9iBiGX4Aw5dycGGGDPTobYfFBr | Metroid - Title Theme.pdf
QmYPpj6XVNPPYgwvN4iVaxZLHy982TPkSAxBf2rzGHDach | Metroid - Tourian.pdf
QmefKrBYeL58qyVAaJoGHXXEgYgsJrxo763gRRqzYHdL6o | Metroid - Zebetite.pdf</code></pre>
<p>These are all stored in the global IPFS network so you can find any piece by visiting a public gateway such as <code>ipfs.io</code> and adding the IPFS multiaddress to the end of the URL like so: <a href="https://ipfs.io/ipfs/QmYPpj6XVNPPYgwvN4iVaxZLHy982TPkSAxBf2rzGHDach" class="uri">https://ipfs.io/ipfs/QmYPpj6XVNPPYgwvN4iVaxZLHy982TPkSAxBf2rzGHDach</a></p>
<h3 id="reading-data">Reading data</h3>
<p>You've added data to your local database, and now you'll can query it. OrbitDB gives you a number of ways to do this, mostly based on which <em>store</em> you picked.</p>
<p>We gave you a <code>docstore</code> earlier, so you can flesh out the all of thet simple <code>get*****</code> functions like so. <code>docstore</code> also provides the more puwerful <code>query</code> function, which we can abstract to write a <code>getPiecesByInstrument</code> function:</p>
<div class="sourceCode"><pre class="sourceCode javascript"><code class="sourceCode javascript"><span class="at">getAllPieces</span>() <span class="op">{</span>
  <span class="kw">const</span> pieces <span class="op">=</span> <span class="kw">this</span>.<span class="va">piecesDb</span>.<span class="at">get</span>(<span class="st">&#39;&#39;</span>)
  <span class="cf">return</span> pieces
<span class="op">}</span>

<span class="at">getPieceByHash</span>(hash) <span class="op">{</span>
  <span class="kw">const</span> singlePiece <span class="op">=</span> <span class="kw">this</span>.<span class="va">piecesDb</span>.<span class="at">get</span>(hash)[<span class="dv">0</span>]
  <span class="cf">return</span> singlePiece
<span class="op">}</span>

<span class="at">getByInstrument</span>(instrument) <span class="op">{</span>
  <span class="cf">return</span> <span class="kw">this</span>.<span class="va">piecesDb</span>.<span class="at">query</span>((piece) <span class="op">=&gt;</span> <span class="va">piece</span>.<span class="at">instrument</span> <span class="op">===</span> instrument)
<span class="op">}</span></code></pre></div>
<p>In your application code, you can use these functions it like so:</p>
<div class="sourceCode"><pre class="sourceCode javascript"><code class="sourceCode javascript">pieces <span class="op">=</span> <span class="va">NPP</span>.<span class="at">getAllPieces</span>()
<span class="va">pleces</span>.<span class="at">forEach</span>((piece) <span class="op">=&gt;</span> <span class="op">{</span> <span class="co">/* do something */</span> <span class="op">}</span>)

piece <span class="op">=</span> <span class="va">NPP</span>.<span class="at">getPieceByHash</span>(<span class="st">&#39;QmNR2n4zywCV61MeMLB6JwPueAPqheqpfiA4fLPMxouEmQ&#39;</span>)
<span class="va">console</span>.<span class="at">log</span>(piece)</code></pre></div>
<p>Pulling a random score from the database is a great way to find random music to practice. Run this code:</p>
<div class="sourceCode"><pre class="sourceCode javascript"><code class="sourceCode javascript"><span class="kw">const</span> pieces <span class="op">=</span> <span class="va">NPP</span>.<span class="at">getPieceByInstrument</span>(<span class="st">&quot;Piano&quot;</span>)
<span class="kw">const</span> randomPiece <span class="op">=</span> pieces[<span class="va">items</span>.<span class="at">length</span> <span class="op">*</span> <span class="va">Math</span>.<span class="at">random</span>() <span class="op">|</span> <span class="dv">0</span>]
<span class="va">console</span>.<span class="at">log</span>(randomPiece)</code></pre></div>
<p>Both <code>console.log</code> calls above will return something like this.</p>
<div class="sourceCode"><pre class="sourceCode json"><code class="sourceCode json"><span class="fu">{</span>
  <span class="dt">&quot;hash&quot;</span><span class="fu">:</span><span class="st">&quot;QmNR2n4zywCV61MeMLB6JwPueAPqheqpfiA4fLPMxouEmQ&quot;</span><span class="fu">,</span>
  <span class="dt">&quot;instrument&quot;</span><span class="fu">:</span><span class="st">&quot;Accordion&quot;</span>
<span class="fu">}</span></code></pre></div>
<h4 id="what-just-happened-5">What just happened?</h4>
<p>You queried the database of scores you created earlier in the chapter, retrieving by hash and also randomly.</p>
<ul>
<li><code>pieces.get(hash)</code> is a simple function that performs a partial string search on your database indexes. It will return an array of records that match. As you can see in your <code>getAllPieces</code> function, you can pass an empty string to return all pieces.</li>
<li><code>return this.piecesDb.query((piece) =&gt; piece.instrument === instrument)</code> queries the database, returning. It's most analagous to JavaScripts <code>Array.filter</code> method.</li>
</ul>
<blockquote>
<p><strong>Note:</strong> Generally speaking, <code>get</code> functions do not return promises since the calculation of database state happens at the time of a <em>write</em>. This is a trade-off to allow for ease of use and performance based on the assumption that writes are <em>generally</em> less frequent than reads.</p>
</blockquote>
<h3 id="updating-and-deleting-data">Updating and deleting data</h3>
<p>You'll next want to provide your users with the ability to update and delete their pieces. For example if you realize you'd rather practice a piece on a harpsichord instead of a piano, or if they want to stop practicing a certain piece.</p>
<p>Again, each OrbitDB store may have slightly different methods for this. In the <code>docstore</code> you can update records by again using the <code>put</code> method and the ID of the index you want to update.</p>
<div class="sourceCode"><pre class="sourceCode javascript"><code class="sourceCode javascript">async <span class="at">updatePieceByHash</span>(hash<span class="op">,</span> instrument <span class="op">=</span> <span class="st">&quot;Piano&quot;</span>) <span class="op">{</span>
  <span class="kw">var</span> piece <span class="op">=</span> await <span class="kw">this</span>.<span class="at">getPieceByHash</span>(hash)
  <span class="va">piece</span>.<span class="at">instrument</span> <span class="op">=</span> instrument
  <span class="kw">const</span> cid <span class="op">=</span> await <span class="kw">this</span>.<span class="va">piecesDb</span>.<span class="at">put</span>(piece)
  <span class="cf">return</span> cid
<span class="op">}</span></code></pre></div>
<p>Deleting a record by hash is also easy:</p>
<div class="sourceCode"><pre class="sourceCode javascript"><code class="sourceCode javascript">async <span class="at">deletePieceByHash</span>(hash) <span class="op">{</span>
  <span class="kw">const</span> cid <span class="op">=</span> await <span class="kw">this</span>.<span class="va">piecesDb</span>.<span class="at">del</span>(hash)
  <span class="cf">return</span> cid
<span class="op">}</span></code></pre></div>
<p>In your application code, you can run these new functions and see the opcodes that return to get a sense of what's going on.</p>
<div class="sourceCode"><pre class="sourceCode javascript"><code class="sourceCode javascript"><span class="kw">const</span> cid <span class="op">=</span> await <span class="va">NPP</span>.<span class="at">updatePiece</span>(<span class="st">&quot;QmNR2n4zywCV61MeMLB6JwPueAPqheqpfiA4fLPMxouEmQ&quot;</span><span class="op">,</span> <span class="st">&quot;Harpsichord&quot;</span>)
<span class="co">// do stuff with the cid as above</span>

<span class="kw">const</span> cid <span class="op">=</span> await <span class="va">NPP</span>.<span class="at">deletePieceByHash</span>(<span class="st">&quot;QmNR2n4zywCV61MeMLB6JwPueAPqheqpfiA4fLPMxouEmQ&quot;</span>)
<span class="kw">const</span> content <span class="op">=</span> await <span class="va">NPP</span>.<span class="va">node</span>.<span class="va">dag</span>.<span class="at">get</span>(cid)
<span class="va">console</span>.<span class="at">log</span>(<span class="va">content</span>.<span class="va">value</span>.<span class="at">payload</span>)</code></pre></div>
<p>While the opcode for PUT will be the same, the opcode for <code>deletePieceByHash</code> is not:</p>
<div class="sourceCode"><pre class="sourceCode json"><code class="sourceCode json"><span class="fu">{</span>
  <span class="dt">&quot;op&quot;</span><span class="fu">:</span><span class="st">&quot;DEL&quot;</span><span class="fu">,</span>
  <span class="dt">&quot;key&quot;</span><span class="fu">:</span><span class="st">&quot;QmdzDacgJ9EQF9Z8G3L1fzFwiEu255Nm5WiCey9ntrDPSL&quot;</span><span class="fu">,</span>
  <span class="dt">&quot;value&quot;</span><span class="fu">:</span><span class="kw">null</span>
<span class="fu">}</span></code></pre></div>
<h4 id="what-just-happened-6">What just happened?</h4>
<p>You may be thinking something like this: &quot;Wait, if OrbitDB is built upon IPFS and IPFS is immutable, then how are we updating or deleting records?&quot; Great question, and the answer lies in the opcodes Let's step through the code so we can get to that.</p>
<ul>
<li><code>this.piecesDb.put</code> is nothing new, we're just using it to perform an update instead of an insert</li>
<li><code>this.piecesDb.del</code> is a simple function that takes a hash, deletes the record, and returns a CID</li>
<li><code>&quot;op&quot;: &quot;DEL&quot;</code> is another opcode, <code>DEL</code> for DELETE. This log entry effectively removes this key from your records and also removes the content from your local IPFS</li>
</ul>
<h3 id="storing-media-files">Storing Media Files</h3>
<p>We are often asked if it is possible to store media files like pictures or audio directly inside OrbitDB. Our answer is that you should treat this like any other database system and store the <em>address</em> of the</p>
<p>Luckily, with content addressing in IPFS, this becomes rather easy, and predictable from a schema design standpoint. The overall pattern in:</p>
<ol style="list-style-type: decimal">
<li>Add the file to IPFS, which will return the <em>multihash</em> of the file</li>
<li>Store said multihash in OrbitDB</li>
<li>When it comes time to display the media, use native IPFS functionality to retrieve it from the hash</li>
</ol>
<h4 id="adding-content-to-ipfs">Adding content to IPFS</h4>
<p>To see this in action, <a href="https://ipfs.io/ipfs/QmYPpj6XVNPPYgwvN4iVaxZLHy982TPkSAxBf2rzGHDach">download the &quot;Tourian&quot; PDF</a> to your local file system for use in the next examples</p>
<h5 id="on-the-command-line-with-the-go-ipfs-or-js-ipfs-daemon">On the command line with the go-ipfs or js-ipfs daemon</h5>
<p>After following the installation instructions to install <a href="https://github.com/ipfs/go-ipfs">go-ipfs</a> or <a href="https://github.com/ipfs/js-ipfs">js-ipfs</a> globally, you can run the following command:</p>
<div class="sourceCode"><pre class="sourceCode bash"><code class="sourceCode bash">$ <span class="ex">ipfs</span> add file.pdf
<span class="ex">QmYPpj6XVNPPYgwvN4iVaxZLHy982TPkSAxBf2rzGHDach</span></code></pre></div>
<p>You can then use that hash in the same manner as above to add it to the database of pieces.</p>
<h5 id="in-node.js-1">In Node.js</h5>
<p>In Node.JS, adding a file from the filesystem can be accomplished like so:</p>
<div class="sourceCode"><pre class="sourceCode javascript"><code class="sourceCode javascript"><span class="kw">var</span> IPFS <span class="op">=</span> <span class="at">require</span>(<span class="st">&#39;ipfs&#39;</span>)
<span class="kw">var</span> ipfs <span class="op">=</span> <span class="kw">new</span> <span class="at">IPFS</span>(<span class="co">/* insert appropriate options here for your local IPFS installation */</span>)

<span class="va">ipfs</span>.<span class="at">addFromFs</span>(<span class="st">&quot;./file.pdf&quot;</span>).<span class="at">then</span>(<span class="va">console</span>.<span class="at">log</span>)</code></pre></div>
<h5 id="in-the-browser-1">In the browser</h5>
<p>If you have a HTML file input with an ID of &quot;fileUpload&quot;, you can do something like the following to add content to IPFS:</p>
<div class="sourceCode"><pre class="sourceCode javascript"><code class="sourceCode javascript"><span class="kw">var</span> fileInput <span class="op">=</span> <span class="va">document</span>.<span class="at">getElementById</span>(<span class="st">&quot;fileUpload&quot;</span>)

<span class="kw">var</span> file <span class="op">=</span> <span class="va">fileInput</span>.<span class="at">files</span>[<span class="dv">0</span>]
<span class="cf">if</span> (file) <span class="op">{</span>
  <span class="kw">var</span> reader <span class="op">=</span> <span class="kw">new</span> <span class="at">FileReader</span>()<span class="op">;</span>
  <span class="va">reader</span>.<span class="at">readAsBinaryString</span>(file)

  <span class="va">reader</span>.<span class="at">onerror</span> <span class="op">=</span> (e) <span class="op">=&gt;</span> <span class="va">console</span>.<span class="at">error</span>(e)
  <span class="va">reader</span>.<span class="at">onload</span> <span class="op">=</span> async <span class="kw">function</span> (evt) <span class="op">{</span>
    <span class="kw">const</span> contents <span class="op">=</span> <span class="va">evt</span>.<span class="va">target</span>.<span class="at">result</span>
    <span class="kw">const</span> buffer <span class="op">=</span> <span class="va">NPP</span>.<span class="va">node</span>.<span class="va">types</span>.<span class="at">Buffer</span>(contents)
    <span class="kw">const</span> result <span class="op">=</span> await <span class="va">NPP</span>.<span class="va">node</span>.<span class="at">add</span>(buffer)
    <span class="kw">const</span> cid <span class="op">=</span> await <span class="va">NPP</span>.<span class="at">addNewPiece</span>(result[<span class="dv">0</span>].<span class="at">hash</span><span class="op">,</span> instrument)
  <span class="op">}</span>
<span class="op">}</span></code></pre></div>
<p>Note that there are still issues with swarming in the browser, so you may have trouble discovering content. Stay tuned for future <code>js-ipfs</code> releases to fix this.</p>
<h4 id="what-just-happened-7">What just happened?</h4>
<p>You added some potentially very large media files to IPFS, and then stored the 40-byte addresses in OrbitDB for retrieval and use. You are now able to leverage the benefits of both IPFS and OrbitDB in both the browser and node.js.</p>
<blockquote>
<p><strong>Note:</strong> IPFS nodes run <em>inside</em> the browser, so if you're adding lots of files via the above method, keep an eye on your IndexedDB quotas, since that's where IPFS is storing the blocks.</p>
</blockquote>
<h3 id="key-takeaways-1">Key Takeaways</h3>
<ul>
<li>Calling <code>load()</code> periodically ensures you have the latest entries from the database</li>
<li>Generally speaking, a <code>put</code> or <code>delete</code> will return a Promise (or require <code>await</code>), and a <code>get</code> will return the value(s) immediately.</li>
<li>Updating the database is equivalent to adding a new entry to its OPLOG.</li>
<li>The OPLOG is calculated to give the current <em>state</em> of the database, which is the view you generally interact with</li>
<li>OPLOGS are flexible, particularly if you're writing your own stores. <code>docstore</code> primarily utilizes the <code>PUT</code> and <code>DEL</code> opcodes</li>
<li>While you technically <em>can</em> store encoded media directly in a database, media files are best stored in OrbitDB as IPFS hashes</li>
<li>Keep an eye on IndexedDB size and limitations when adding content to IPFS via the browser.</li>
</ul>
<p>Of course, in the vast majority of apps you create, you won't just be interacting with one database or one type of data. We've got you covered in <a href="03_Structuring_Data.md">Chapter 3: Structuring Data</a></p>
<ul>
<li>Resolves #<a href="https://github.com/orbitdb/orbit-db/issues/365">365</a></li>
<li>Resolves #<a href="https://github.com/orbitdb/orbit-db/issues/438">438</a></li>
<li>Resolves #<a href="https://github.com/orbitdb/orbit-db/issues/381">381</a></li>
<li>Resolves #<a href="https://github.com/orbitdb/orbit-db/issues/242">242</a></li>
<li>Resolves #<a href="https://github.com/orbitdb/orbit-db/issues/430">430</a> ## Chapter 3 - Structuring your data</li>
</ul>
<blockquote>
<p>or, &quot;How you learned to stop worrying and love <em>nested databases</em>.&quot;</p>
</blockquote>
<div>
<h3>
Table of Contents
</h3>
<p>Please complete <a href="./02_Managing_Data.md">Chapter 2 - Managing Data</a> first.</p>
<ul>
<li><a href="#adding-a-practice-counter-to-each-piece">Adding a practice counter to each piece</a></li>
<li><a href="#utilizing-your-practice-counter">Utilizing your practice counter</a></li>
<li><a href="#adding-a-higher-level-user-database">Adding a higher-level user database</a></li>
<li><a href="#dealing-with-fixture-data">Dealing with fixture data</a></li>
</ul>
</div>
<h3 id="adding-a-practice-counter-to-each-piece">Adding a practice counter to each piece</h3>
<p>Your users may want to keep track of their practice, at minimum how many times they practiced a piece. You'll enable that functionality for them by creating a new OrbitDB <code>counter</code> store for each piece, and creating a few new functions inside the <code>NewPiecePlease</code> class to interact with the counters.</p>
<blockquote>
<p><strong>Note:</strong> The nesting approach detailed here is but one of many, and you are free to organize your data as you see fit. This is a powerful feature of OrbitDB and we are excited to see how people tackle this problem in the future!</p>
</blockquote>
<p>Update the <code>addNewPiece</code> function to create a <code>counter</code> store every time a new piece is added to the database. You can utilize basic access control again to ensure that only a node with your IPFS node's ID can write to it.</p>
<div class="sourceCode"><pre class="sourceCode javascript"><code class="sourceCode javascript">async <span class="at">addNewPiece</span>(hash<span class="op">,</span> instrument <span class="op">=</span> <span class="st">&quot;Piano&quot;</span>) <span class="op">{</span>
  <span class="kw">const</span> options <span class="op">=</span> <span class="op">{</span> <span class="dt">accessController</span><span class="op">:</span> <span class="op">{</span> <span class="dt">write</span><span class="op">:</span> [<span class="kw">this</span>.<span class="va">orbitdb</span>.<span class="va">identity</span>.<span class="at">publicKey</span>] <span class="op">}}</span>
  <span class="kw">const</span> dbName <span class="op">=</span> <span class="st">&quot;counter.&quot;</span> <span class="op">+</span> <span class="va">hash</span>.<span class="at">substr</span>(<span class="dv">20</span><span class="op">,</span><span class="dv">20</span>)
  <span class="kw">const</span> counterDb <span class="op">=</span> await <span class="kw">this</span>.<span class="va">orbitdb</span>.<span class="at">counter</span>(dbName<span class="op">,</span> options)

  <span class="kw">const</span> cid <span class="op">=</span> await <span class="kw">this</span>.<span class="va">piecesDb</span>.<span class="at">put</span>(<span class="op">{</span>
    <span class="dt">hash</span><span class="op">:</span> hash<span class="op">,</span>
    <span class="dt">instrument</span><span class="op">:</span> instrument<span class="op">,</span>
    <span class="dt">counter</span><span class="op">:</span> <span class="va">counterDb</span>.<span class="at">id</span>
  <span class="op">}</span>)

  <span class="cf">return</span> cid
<span class="op">}</span></code></pre></div>
<p>In your application code this would look something like this:</p>
<div class="sourceCode"><pre class="sourceCode javascript"><code class="sourceCode javascript"><span class="kw">const</span> cid <span class="op">=</span> await <span class="va">NPP</span>.<span class="at">addNewPiece</span>(<span class="st">&quot;QmdzDacgJ9EQF9Z8G3L1fzFwiEu255Nm5WiCey9ntrDPSL&quot;</span><span class="op">,</span> <span class="st">&quot;Piano&quot;</span>)
<span class="kw">const</span> content <span class="op">=</span> await <span class="va">NPP</span>.<span class="va">node</span>.<span class="va">dag</span>.<span class="at">get</span>(cid)
<span class="va">console</span>.<span class="at">log</span>(<span class="va">content</span>.<span class="va">value</span>.<span class="va">payload</span>.<span class="at">value</span>)</code></pre></div>
<p>Which will then output something like:</p>
<div class="sourceCode"><pre class="sourceCode json"><code class="sourceCode json"><span class="fu">{</span>
  <span class="dt">&quot;hash&quot;</span><span class="fu">:</span><span class="st">&quot;QmdzDacgJ9EQF9Z8G3L1fzFwiEu255Nm5WiCey9ntrDPSL&quot;</span><span class="fu">,</span>
  <span class="dt">&quot;counter&quot;</span><span class="fu">:</span><span class="st">&quot;/orbitdb/zdpuAoM3yZEwsynUgeWPfizmWz5DEFPiQSvg5gUPu9VoGhxjS/counter.fzFwiEu255Nm5WiCey9n&quot;</span><span class="fu">,</span>
  <span class="dt">&quot;instrument&quot;</span><span class="fu">:</span><span class="st">&quot;Piano&quot;</span>
<span class="fu">}</span></code></pre></div>
<h4 id="what-just-happened-8">What just happened?</h4>
<p>You changed your code to add a new database of type <code>counter</code> for each new entry added to the database.</p>
<ul>
<li><code>const options = { accessController: { write: [this.orbitdb.identity.publicKey] }}</code> should be recognizable from Chapter 1. This sets options for the db, namely the <code>accessController</code> to give write access only to your node's ID, or public key.</li>
<li><code>this.orbitdb.counter</code> creates a new counter type with <code>options</code> that provide a write ACL for your IPFS node</li>
<li><code>const dbName = &quot;counter.&quot; + hash.substr(20,20)</code> prepends <code>counter.</code> to the truncated database name. See the note below.</li>
<li><code>this.piecesDb.put</code> is then modified to store the <em>address</em> of this new database for later retrieval similar to the way you stored media addresses in a previous chapter.</li>
<li><code>&quot;counter&quot;:&quot;/orbitdb/zdpuAoM3yZEwsynUgeWPfizmWz5DEFPiQSvg5gUPu9VoGhxjS/counter.fzFwiEu255Nm5WiCey9n&quot;</code> in the output now reflects this change by storing the <em>address</em> of the new DB for later retrieval and updating.</li>
</ul>
<blockquote>
<p><strong>Note:</strong> There is a limit of 40 characters on the names of the databases, and multihashes are over this limit at 46. We still need unique names for each of the databases created to generate unique addresses, so we trim down the hash and prepend it with <code>counter.</code> to get around this limitation.</p>
</blockquote>
<h3 id="utilizing-the-practice-counter">Utilizing the practice counter</h3>
<p>Now, add a few functions to <code>NewPiecePlease</code> that utilize the counters when necessary</p>
<div class="sourceCode"><pre class="sourceCode javascript"><code class="sourceCode javascript">async <span class="at">getPracticeCount</span>(piece) <span class="op">{</span>
  <span class="kw">const</span> counter <span class="op">=</span> await <span class="kw">this</span>.<span class="va">orbitdb</span>.<span class="at">counter</span>(<span class="va">piece</span>.<span class="at">counter</span>)
  await <span class="va">counter</span>.<span class="at">load</span>()
  <span class="cf">return</span> <span class="va">counter</span>.<span class="at">value</span>
<span class="op">}</span>

async <span class="at">incrementPracticeCounter</span>(piece) <span class="op">{</span>
  <span class="kw">const</span> counter <span class="op">=</span> await <span class="kw">this</span>.<span class="va">orbitdb</span>.<span class="at">counter</span>(<span class="va">piece</span>.<span class="at">counter</span>)
  <span class="kw">const</span> cid <span class="op">=</span> await <span class="va">counter</span>.<span class="at">inc</span>()
  <span class="cf">return</span> cid
<span class="op">}</span></code></pre></div>
<p>These can be used in your application code like so:</p>
<div class="sourceCode"><pre class="sourceCode javascript"><code class="sourceCode javascript"><span class="kw">const</span> piece <span class="op">=</span> <span class="va">NPP</span>.<span class="at">getPieceByHash</span>(<span class="st">&quot;QmdzDacgJ9EQF9Z8G3L1fzFwiEu255Nm5WiCey9ntrDPSL&quot;</span>)
<span class="kw">const</span> cid <span class="op">=</span> await <span class="va">NPP</span>.<span class="at">incrementPracticeCounter</span>(piece)
<span class="kw">const</span> content <span class="op">=</span> await <span class="va">NPP</span>.<span class="va">node</span>.<span class="va">dag</span>.<span class="at">get</span>(cid)
<span class="va">console</span>.<span class="at">log</span>(<span class="va">content</span>.<span class="va">value</span>.<span class="at">payload</span>)</code></pre></div>
<p>That will <code>console.log</code> out something like:</p>
<div class="sourceCode"><pre class="sourceCode json"><code class="sourceCode json"><span class="fu">{</span>
  <span class="dt">&quot;op&quot;</span><span class="fu">:</span><span class="st">&quot;COUNTER&quot;</span><span class="fu">,</span>
  <span class="dt">&quot;key&quot;</span><span class="fu">:</span><span class="kw">null</span><span class="fu">,</span>
  <span class="dt">&quot;value&quot;</span><span class="fu">:</span> <span class="fu">{</span>
    <span class="dt">&quot;id&quot;</span><span class="fu">:</span><span class="st">&quot;042985dafe18ba45c7f1a57db.........02ae4b5e4aa3eb36bc5e67198c2d2&quot;</span><span class="fu">,</span>
    <span class="dt">&quot;counters&quot;</span><span class="fu">:</span> <span class="fu">{</span>
      <span class="dt">&quot;042985dafe18ba45c7f1a57db.........02ae4b5e4aa3eb36bc5e67198c2d2&quot;</span><span class="fu">:</span><span class="dv">3</span>
    <span class="fu">}</span>
  <span class="fu">}</span>
<span class="fu">}</span></code></pre></div>
<h4 id="what-just-happened-9">What just happened?</h4>
<p>You created and used two new functions to both read the value of, and increment a <code>counter</code>, another type of OrbitDB store.</p>
<ul>
<li><code>await this.orbitdb.counter(piece.counter)</code> is a new way of using <code>this.orbitdb.counter</code>, by passing in an existing database address. This will <em>open</em> the existing database instead of creating it</li>
<li><code>counter.load()</code> is called once in <code>getPracticeCount</code>, loading the latest database entries into memory for display</li>
<li><code>await counter.inc()</code> increments the counter, like calling <code>counter++</code> would on an integer variable</li>
<li><code>&quot;op&quot;:&quot;COUNTER&quot;</code> is a new operation that you havent seen yet - remember, you can create stores with any operations you want. More on this in Part 3.</li>
<li><code>&quot;counters&quot;: { &quot;042985dafe18ba45c7f1a57db.........02ae4b5e4aa3eb36bc5e67198c2d2&quot;: 3 }</code> is the value returned, the long value is an id based on your node's public key</li>
</ul>
<h3 id="adding-a-higher-level-database-for-user-data">Adding a higher-level database for user data</h3>
<p>Pieces of music to practice with are great to have, but moving forward you will want to allow users to further express themselves via a username and profile. This will also help prepare you for allowing users to connect to each other in the next chapter.</p>
<p>You will create a new database for users, from which your <code>piecesDb</code> will be referenced. You can create this database in the <code>ready</code> event handler of IPFS, alongside where you declared <code>piecesDb</code>.</p>
<p>Update your <code>NewPiecePlease</code> constructor to look like this:</p>
<div class="sourceCode"><pre class="sourceCode javascript"><code class="sourceCode javascript"><span class="kw">this</span>.<span class="va">node</span>.<span class="at">on</span>(<span class="st">&quot;ready&quot;</span><span class="op">,</span> <span class="at">async</span> () <span class="op">=&gt;</span> <span class="op">{</span>
  <span class="kw">this</span>.<span class="at">orbitdb</span> <span class="op">=</span> await <span class="va">OrbitDB</span>.<span class="at">createInstance</span>(<span class="kw">this</span>.<span class="at">node</span>)
  <span class="kw">this</span>.<span class="at">defaultOptions</span> <span class="op">=</span> <span class="op">{</span> <span class="dt">write</span><span class="op">:</span> [<span class="kw">this</span>.<span class="va">orbitdb</span>.<span class="va">identity</span>.<span class="at">publicKey</span>] <span class="op">}</span>

  <span class="kw">const</span> docStoreOptions <span class="op">=</span> <span class="va">Object</span>.<span class="at">assign</span>(<span class="kw">this</span>.<span class="at">defaultOptions</span><span class="op">,</span> <span class="op">{</span> <span class="dt">indexBy</span><span class="op">:</span> <span class="st">&#39;hash&#39;</span> <span class="op">}</span>)
  <span class="kw">this</span>.<span class="at">piecesDb</span> <span class="op">=</span> await <span class="kw">this</span>.<span class="va">orbitdb</span>.<span class="at">docstore</span>(<span class="st">&#39;pieces&#39;</span><span class="op">,</span> docStoreOptions)
  await <span class="kw">this</span>.<span class="va">piecesDb</span>.<span class="at">load</span>()

  <span class="kw">this</span>.<span class="at">userDb</span> <span class="op">=</span> await <span class="kw">this</span>.<span class="va">orbitdb</span>.<span class="at">kvstore</span>(<span class="st">&quot;user&quot;</span><span class="op">,</span> <span class="kw">this</span>.<span class="at">defaultOptions</span>)
  await <span class="kw">this</span>.<span class="va">userDb</span>.<span class="at">load</span>()
  await <span class="kw">this</span>.<span class="va">userDb</span>.<span class="at">set</span>(<span class="st">&#39;pieces&#39;</span><span class="op">,</span> <span class="kw">this</span>.<span class="va">piecesDb</span>.<span class="at">id</span>)
<span class="op">}</span>)<span class="op">;</span></code></pre></div>
<p>Then add the following functions in your class:</p>
<div class="sourceCode"><pre class="sourceCode javascript"><code class="sourceCode javascript">async <span class="at">deleteProfileField</span>(key) <span class="op">{</span>
  <span class="kw">const</span> cid <span class="op">=</span> await <span class="kw">this</span>.<span class="va">userDb</span>.<span class="at">del</span>(key)
  <span class="cf">return</span> cid
<span class="op">}</span>

<span class="at">getAllProfileFields</span>() <span class="op">{</span>
  <span class="cf">return</span> <span class="va">NPP</span>.<span class="va">userDb</span>.<span class="va">_index</span>.<span class="at">_index</span><span class="op">;</span>
<span class="op">}</span>

<span class="at">getProfileField</span>(key) <span class="op">{</span>
  <span class="cf">return</span> <span class="kw">this</span>.<span class="va">userDb</span>.<span class="at">get</span>(key)
<span class="op">}</span>

async <span class="at">updateProfileField</span>(key<span class="op">,</span> value) <span class="op">{</span>
  <span class="kw">const</span> cid <span class="op">=</span> await <span class="kw">this</span>.<span class="va">userDb</span>.<span class="at">set</span>(key<span class="op">,</span> value)
  <span class="cf">return</span> cid
<span class="op">}</span></code></pre></div>
<p>In your application code, you can use them like this:</p>
<div class="sourceCode"><pre class="sourceCode javascript"><code class="sourceCode javascript">await <span class="va">NPP</span>.<span class="at">updateProfile</span>(<span class="st">&quot;username&quot;</span><span class="op">,</span> <span class="st">&quot;aphelionz&quot;</span>)

<span class="kw">var</span> profileFields <span class="op">=</span> <span class="va">NPP</span>.<span class="at">getAllProfileFields</span>()<span class="op">;</span>A
<span class="co">// { &quot;username&quot;: &quot;aphelionz&quot;, &quot;pieces&quot;: &quot;/orbitdb/zdpu...../pieces&quot; }</span>

await <span class="va">NPP</span>.<span class="at">deleteProfileField</span>(<span class="st">&quot;username&quot;</span>)</code></pre></div>
<p>We think you're getting the idea.</p>
<h4 id="what-just-happened-10">What just happened?</h4>
<p>You created a database to store anything and everything that might pertain to a user, and then linked the <code>piecesDb</code> to that, nested inside.</p>
<ul>
<li><code>this.orbitdb.kvstore(&quot;user&quot;, this.defaultOptions)</code> creates a new OrbitDB of a type that allows you to manage a simple key value store.</li>
<li><code>this.userDb.set('pieces', this.piecesDb.id)</code> is the function that the <code>kvstore</code> uses to set items. This is equivalent to something like the shorthand <code>user = {}; user.pieces = id</code></li>
<li><code>NPP.userDb._index._index</code> is a nice trick that works with any store to return the full index. We can use this in the absence of a function like <code>NPP.userDb.all()</code></li>
<li><code>this.userDb.del(key)</code> deletes the specified key and corresponding value from the store</li>
<li><code>this.userDb.get(key)</code> retrieves the specified key and the corresponding value from the store</li>
</ul>
<h3 id="dealing-with-fixture-data">Dealing with fixture data</h3>
<p>Fresh users to the app will need a strong onboarding experience, and you'll enable that for them now. You'll want to give people some data to start with, and you'll want this process to work offline.</p>
<p>Update your <em>init</em> function to look like this, and add the <code>loadFixtureData</code> function in the <code>NewPiecePlease</code> class:</p>
<div class="sourceCode"><pre class="sourceCode javascript"><code class="sourceCode javascript">async <span class="at">_init</span>() <span class="op">{</span>
  <span class="kw">const</span> nodeId <span class="op">=</span> await <span class="kw">this</span>.<span class="va">node</span>.<span class="at">id</span>()
  <span class="kw">this</span>.<span class="at">orbitdb</span> <span class="op">=</span> await <span class="va">OrbitDB</span>.<span class="at">createInstance</span>(<span class="kw">this</span>.<span class="at">node</span>)
  <span class="kw">this</span>.<span class="at">defaultOptions</span> <span class="op">=</span> <span class="op">{</span> <span class="dt">accessController</span><span class="op">:</span> <span class="op">{</span> <span class="dt">write</span><span class="op">:</span> [<span class="kw">this</span>.<span class="va">orbitdb</span>.<span class="va">identity</span>.<span class="at">publicKey</span>] <span class="op">}}</span>

  <span class="kw">const</span> docStoreOptions <span class="op">=</span> <span class="va">Object</span>.<span class="at">assign</span>(<span class="kw">this</span>.<span class="at">defaultOptions</span><span class="op">,</span> <span class="op">{</span> <span class="dt">indexBy</span><span class="op">:</span> <span class="st">&#39;hash&#39;</span> <span class="op">}</span>)
  <span class="kw">this</span>.<span class="at">piecesDb</span> <span class="op">=</span> await <span class="kw">this</span>.<span class="va">orbitdb</span>.<span class="at">docstore</span>(<span class="st">&#39;pieces&#39;</span><span class="op">,</span> docStoreOptions)
  await <span class="kw">this</span>.<span class="va">piecesDb</span>.<span class="at">load</span>()

  <span class="kw">this</span>.<span class="at">userDb</span> <span class="op">=</span> await <span class="kw">this</span>.<span class="va">orbitdb</span>.<span class="at">kvstore</span>(<span class="st">&quot;user&quot;</span><span class="op">,</span> <span class="kw">this</span>.<span class="at">defaultOptions</span>)
  await <span class="kw">this</span>.<span class="va">userDb</span>.<span class="at">load</span>()

  await <span class="kw">this</span>.<span class="at">loadFixtureData</span>(<span class="op">{</span>
    <span class="st">&quot;username&quot;</span><span class="op">:</span> <span class="va">Math</span>.<span class="at">floor</span>(<span class="va">Math</span>.<span class="at">rand</span>() <span class="op">*</span> <span class="dv">1000000</span>)<span class="op">,</span>
    <span class="st">&quot;peers&quot;</span><span class="op">:</span> []<span class="op">,</span>
    <span class="st">&quot;pieces&quot;</span><span class="op">:</span> <span class="kw">this</span>.<span class="va">piecesDb</span>.<span class="at">id</span><span class="op">,</span>
    <span class="st">&quot;nodeId&quot;</span><span class="op">:</span> <span class="va">nodeId</span>.<span class="at">id</span>
  <span class="op">}</span>)

  await <span class="kw">this</span>.<span class="va">node</span>.<span class="va">pubsub</span>.<span class="at">subscribe</span>(<span class="va">nodeId</span>.<span class="at">id</span><span class="op">,</span> <span class="kw">this</span>.<span class="at">onmessage</span>)
  <span class="kw">this</span>.<span class="at">onready</span>()
<span class="op">}</span>

async <span class="at">loadFixtureData</span>(fixtureData) <span class="op">{</span>
  <span class="kw">const</span> fixtureKeys <span class="op">=</span> <span class="va">Object</span>.<span class="at">keys</span>(fixtureData)
  await <span class="va">Promise</span>.<span class="at">all</span>(<span class="va">fixtureKeys</span>.<span class="at">map</span>(<span class="at">async</span>(key) <span class="op">=&gt;</span> <span class="op">{</span>
    <span class="cf">if</span>(<span class="op">!</span><span class="kw">this</span>.<span class="va">userDb</span>.<span class="at">get</span>(key)) await <span class="kw">this</span>.<span class="va">userDb</span>.<span class="at">set</span>(key<span class="op">,</span> fixtureData[key])
  <span class="op">}</span>))
<span class="op">}</span></code></pre></div>
<p>Then, if you were to clear all local data and load the app from scratch, you'd see this:</p>
<div class="sourceCode"><pre class="sourceCode javascript"><code class="sourceCode javascript"><span class="kw">var</span> profileFields <span class="op">=</span> <span class="va">NPP</span>.<span class="at">getAllProfileFields</span>()
<span class="va">console</span>.<span class="at">log</span>(profileFields)</code></pre></div>
<p>You would see:</p>
<div class="sourceCode"><pre class="sourceCode json"><code class="sourceCode json"><span class="fu">{</span>
  <span class="dt">&quot;nodeId&quot;</span><span class="fu">:</span> <span class="st">&quot;QmXG8yk8UJjMT6qtE2zSxzz3U7z5jSYRgVWLCUFqAVnByM&quot;</span><span class="fu">,</span>
  <span class="dt">&quot;pieces&quot;</span><span class="fu">:</span> <span class="st">&quot;/orbitdb/zdpuArXLduV6myTmAGR4WKv4T7yDDV7KvwkmBaU8faCdrKvw6/pieces&quot;</span><span class="fu">,</span>
  <span class="dt">&quot;peers&quot;</span><span class="fu">:</span> <span class="ot">[]</span><span class="fu">,</span>
  <span class="dt">&quot;username&quot;</span><span class="fu">:</span> <span class="dv">304532</span>
<span class="fu">}</span></code></pre></div>
<h4 id="what-just-happened-11">What just happened?</h4>
<p>You created simple fixture data and a function to load it into a fresh instantiaton of the app.</p>
<h3 id="key-takeaways-2">Key Takeaways</h3>
<ul>
<li>The distributed applications of the future will be complex and require data structures to mirror and manage that complexity.</li>
<li>Luckily, OrbitDB is extremely flexible when it comes to generating complex and linked data structures</li>
<li>These structures can contain any combination of OrbitDB stores - you are not limited to just one.</li>
<li>You can nest a database within another, and you can create new databases to next your existing databases within.</li>
<li><em>Nesting</em> databases is a powerful approach, but it is one of many. <strong>Do not</strong> feel limited. <strong>Do</strong> share novel approaches with the community.</li>
<li>Fixture data can be loaded easily, and locally, by simply including a basic set of values during app initialization</li>
</ul>
<p>And with this, you are now ready to connect to the outside world. Continue to <a href="04_P2P_Part_1.md">Chapter 4: Peer to Peer Part 1</a> to join your app to the global IPFS network, and to other users! ## Chapter 4: Peer-to-Peer, Part 1 (The IPFS Layer)</p>
<blockquote>
<p>There's a lot of ground to cover as we move from offline to fully peer-to-peer, and we need to start where it starts: <em>connecting to IPFS</em>, <em>connecting directly to peers</em>, and <em>communicating with them via IPFS pubsub.</em></p>
</blockquote>
<div>
<h3>
Table of Contents
</h3>
<p>Please complete <a href="./03_Structuring_Data.md">Chapter 3 - Structuring Data</a> first.</p>
<ul>
<li><a href="#connecting-to-the-global-ipfs-network">Connecting to the global IPFS network</a></li>
<li><a href="#working-with-peers">Working with peers</a></li>
<li><a href="#peer-to-peer-communication-via-IPFS-pubsub">Peer to peer communication via IPFS pubsub</a></li>
</ul>
</div>
<h3 id="connecting-to-the-global-ipfs-network">Connecting to the global IPFS network</h3>
<p>You will now reconfigure your IPFS node to connect to the global network and begin swarming with other peers. For more information on what this means, see Part 2 - Thinking Peer to Peer. For now, just understand that it means you're getting connected.</p>
<h4 id="restoring-default-ipfs-config-values">Restoring default IPFS config values</h4>
<p>We started the tutorial offline to focus on OrbitDB's core concepts. Now you'll undo this and connect the app, properly, to the global IPFS network.</p>
<p>First, remove two lines from the <code>NewPiecePlease</code> constructor:</p>
<ol style="list-style-type: decimal">
<li><code>preload: { enabled: false }</code></li>
<li><code>config: {  Bootstrap: [], Addresses: { Swarm: [] } }</code></li>
</ol>
<p>Then, add one line to leave you with something like this:</p>
<div class="sourceCode"><pre class="sourceCode javascript"><code class="sourceCode javascript"><span class="kw">class</span> NewPiecePlease <span class="op">{</span>
  <span class="at">constructor</span> (IPFS<span class="op">,</span> OrbitDB) <span class="op">{</span>
    <span class="kw">this</span>.<span class="at">node</span> <span class="op">=</span> <span class="kw">new</span> <span class="at">IPFS</span>(<span class="op">{</span>
      <span class="dt">relay</span><span class="op">:</span> <span class="op">{</span> <span class="dt">enabled</span><span class="op">:</span> <span class="kw">true</span><span class="op">,</span> <span class="dt">hop</span><span class="op">:</span> <span class="op">{</span> <span class="dt">enabled</span><span class="op">:</span> <span class="kw">true</span><span class="op">,</span> <span class="dt">active</span><span class="op">:</span> <span class="kw">true</span> <span class="op">}</span> <span class="op">},</span>
      <span class="dt">EXPERIMENTAL</span><span class="op">:</span> <span class="op">{</span> <span class="dt">pubsub</span><span class="op">:</span> <span class="kw">true</span> <span class="op">},</span>
      <span class="dt">repo</span><span class="op">:</span> <span class="st">&quot;./ipfs&quot;</span><span class="op">,</span>
    <span class="op">}</span>)<span class="op">;</span>

    <span class="co">/* ... */</span>
  <span class="op">}</span>
<span class="op">}</span></code></pre></div>
<p>But wait... ff you were to restart the app and run this command, you would see that you still have an empty array.</p>
<div class="sourceCode"><pre class="sourceCode javascript"><code class="sourceCode javascript">await <span class="va">NPP</span>.<span class="va">node</span>.<span class="va">bootstrap</span>.<span class="at">list</span>()</code></pre></div>
<pre class="plain"><code>[]</code></pre>
<blockquote>
<p><strong>Note:</strong> Bootstrap peers are important because... TODO</p>
</blockquote>
<p>This is because bootstrap and swarm values are persisted in your IPFS config. This is located in the filesystem in the case of node.js and in IndexedB in the case of the browser. You should not manually edit these files.</p>
<h4 id="restoring-your-default-bootstrap-peers">Restoring your default bootstrap peers</h4>
<p>However, nothing will change yet when you run the app. What you <em>can</em> do is run the you should see some messages in your console, something like:</p>
<p>To restore the default peers, like the one generated in the previous chapters, run this command <em>once</em> to restore your default bootstrap peers.</p>
<div class="sourceCode"><pre class="sourceCode javascript"><code class="sourceCode javascript"><span class="kw">this</span>.<span class="va">node</span>.<span class="va">bootstrap</span>.<span class="at">add</span>(<span class="kw">undefined</span><span class="op">,</span> <span class="op">{</span> <span class="dt">default</span><span class="op">:</span> <span class="kw">true</span> <span class="op">}</span>)</code></pre></div>
<p>Running the command below gives you a colorful array of bootstrap peers, ready to be connected to.</p>
<div class="sourceCode"><pre class="sourceCode javascript"><code class="sourceCode javascript">await <span class="va">NPP</span>.<span class="va">node</span>.<span class="va">bootstrap</span>.<span class="at">list</span>()</code></pre></div>
<pre class="plain"><code>&#39;/ip4/104.236.176.52/tcp/4001/ipfs/QmSoLnSGccFuZQJzRadHn95W2CrSFmZuTdDWP8HXaHca9z&#39;,
&#39;/ip4/104.131.131.82/tcp/4001/ipfs/QmaCpDMGvV2BGHeYERUEnRQAwe3N8SzbUtfsmvsqQLuvuJ&#39;,
&#39;/ip4/104.236.179.241/tcp/4001/ipfs/QmSoLPppuBtQSGwKDZT2M73ULpjvfd3aZ6ha4oFGL1KrGM&#39;,
&#39;/ip4/162.243.248.213/tcp/4001/ipfs/QmSoLueR4xBeUbY9WZ9xGUUxunbKWcrNFTDAadQJmocnWm&#39;,
&#39;/ip4/128.199.219.111/tcp/4001/ipfs/QmSoLSafTMBsPKadTEgaXctDQVcqN88CNLHXMkTNwMKPnu&#39;,
&#39;/ip4/104.236.76.40/tcp/4001/ipfs/QmSoLV4Bbm51jM9C4gDYZQ9Cy3U6aXMJDAbzgu2fzaDs64&#39;,
&#39;/ip4/178.62.158.247/tcp/4001/ipfs/QmSoLer265NRgSp2LA3dPaeykiS1J6DifTC88f5uVQKNAd&#39;,
&#39;/ip4/178.62.61.185/tcp/4001/ipfs/QmSoLMeWqB7YGVLJN3pNLQpmmEk35v6wYtsMGLzSr5QBU3&#39;,
&#39;/ip4/104.236.151.122/tcp/4001/ipfs/QmSoLju6m7xTh3DuokvT3886QRYqxAzb1kShaanJgW36yx&#39;,
&#39;/ip6/2604:a880:1:20::1f9:9001/tcp/4001/ipfs/QmSoLnSGccFuZQJzRadHn95W2CrSFmZuTdDWP8HXaHca9z&#39;,
&#39;/ip6/2604:a880:1:20::203:d001/tcp/4001/ipfs/QmSoLPppuBtQSGwKDZT2M73ULpjvfd3aZ6ha4oFGL1KrGM&#39;,
&#39;/ip6/2604:a880:0:1010::23:d001/tcp/4001/ipfs/QmSoLueR4xBeUbY9WZ9xGUUxunbKWcrNFTDAadQJmocnWm&#39;,
&#39;/ip6/2400:6180:0:d0::151:6001/tcp/4001/ipfs/QmSoLSafTMBsPKadTEgaXctDQVcqN88CNLHXMkTNwMKPnu&#39;,
&#39;/ip6/2604:a880:800:10::4a:5001/tcp/4001/ipfs/QmSoLV4Bbm51jM9C4gDYZQ9Cy3U6aXMJDAbzgu2fzaDs64&#39;,
&#39;/ip6/2a03:b0c0:0:1010::23:1001/tcp/4001/ipfs/QmSoLer265NRgSp2LA3dPaeykiS1J6DifTC88f5uVQKNAd&#39;,
&#39;/ip6/2a03:b0c0:1:d0::e7:1/tcp/4001/ipfs/QmSoLMeWqB7YGVLJN3pNLQpmmEk35v6wYtsMGLzSr5QBU3&#39;,
&#39;/ip6/2604:a880:1:20::1d9:6001/tcp/4001/ipfs/QmSoLju6m7xTh3DuokvT3886QRYqxAzb1kShaanJgW36yx&#39;,
&#39;/dns4/node0.preload.ipfs.io/tcp/443/wss/ipfs/QmZMxNdpMkewiVZLMRxaNxUeZpDUb34pWjZ1kZvsd16Zic&#39;,
&#39;/dns4/node1.preload.ipfs.io/tcp/443/wss/ipfs/Qmbut9Ywz9YEDrz8ySBSgWyJk41Uvm2QJPhwDJzJyGFsD6&#39;</code></pre>
<h4 id="enabling-the-swarm">Enabling the swarm</h4>
<p>Next, you will restore your default swarm addresses. These are adresses that your node announces itself to the world on.</p>
<p>In node.js, run this command. In the browser, do not - leave the swarm array blank.</p>
<div class="sourceCode"><pre class="sourceCode javascript"><code class="sourceCode javascript"><span class="va">NPP</span>.<span class="va">node</span>.<span class="va">config</span>.<span class="at">set</span>(<span class="st">&quot;Addresses.Swarm&quot;</span><span class="op">,</span> [<span class="st">&#39;/ip4/0.0.0.0/tcp/4002&#39;</span><span class="op">,</span> <span class="st">&#39;/ip4/127.0.0.1/tcp/4003/ws&#39;</span>]<span class="op">,</span> <span class="va">console</span>.<span class="at">log</span>)</code></pre></div>
<p>Again, you won't have to do either of these restorations if you're starting with a fresh IPFS repo. These instructions are just included to deepen your understanding of what's going on in the stack.</p>
<p>Restart your app you'll see the console output confirming you're swarming. In node.js you'll see something like:</p>
<pre class="plain"><code>Swarm listening on /p2p-websocket-star/ipfs/QmXG8yk8UJjMT6qtE2zSxzz3U7z5jSYRgVWLCUFqAVnByM
Swarm listening on /ip4/127.0.0.1/tcp/4002/ipfs/QmXG8yk8UJjMT6qtE2zSxzz3U7z5jSYRgVWLCUFqAVnByM
Swarm listening on /ip4/172.16.100.191/tcp/4002/ipfs/QmXG8yk8UJjMT6qtE2zSxzz3U7z5jSYRgVWLCUFqAVnByM
Swarm listening on /ip4/172.17.0.1/tcp/4002/ipfs/QmXG8yk8UJjMT6qtE2zSxzz3U7z5jSYRgVWLCUFqAVnByM
Swarm listening on /ip4/127.0.0.1/tcp/4003/ws/ipfs/QmXG8yk8UJjMT6qtE2zSxzz3U7z5jSYRgVWLCUFqAVnByM
Swarm listening on /p2p-circuit/ipfs/QmXG8yk8UJjMT6qtE2zSxzz3U7z5jSYRgVWLCUFqAVnByM
Swarm listening on /p2p-circuit/p2p-websocket-star/ipfs/QmXG8yk8UJjMT6qtE2zSxzz3U7z5jSYRgVWLCUFqAVnByM
Swarm listening on /p2p-circuit/ip4/127.0.0.1/tcp/4002/ipfs/QmXG8yk8UJjMT6qtE2zSxzz3U7z5jSYRgVWLCUFqAVnByM
Swarm listening on /p2p-circuit/ip4/172.16.100.191/tcp/4002/ipfs/QmXG8yk8UJjMT6qtE2zSxzz3U7z5jSYRgVWLCUFqAVnByM
Swarm listening on /p2p-circuit/ip4/172.17.0.1/tcp/4002/ipfs/QmXG8yk8UJjMT6qtE2zSxzz3U7z5jSYRgVWLCUFqAVnByM
Swarm listening on /p2p-circuit/ip4/127.0.0.1/tcp/4003/ws/ipfs/QmXG8yk8UJjMT6qtE2zSxzz3U7z5jSYRgVWLCUFqAVnByM</code></pre>
<p>and in the browser you'll see something like:</p>
<pre class="plain"><code>Swarm listening on /p2p-circuit/ipfs/QmWxWkrCcgNBG2uf1HSVAwb9RzcSYYC2d6CRsfJcqrz2FX
Swarm listening on /p2p-circuit/p2p-websocket-star/ipfs/QmWxWkrCcgNBG2uf1HSVAwb9RzcSYYC2d6CRsfJcqrz2FX</code></pre>
<p>This is good, and it's OK that they're different. You're on the right track, and ready to work peer to peer connections into the application</p>
<h4 id="what-just-happened-12">What just happened</h4>
<p>Before this, you were working offline. Now you're not. You've been connected to the global IPFS network and are ready for peer to-peer connections.</p>
<ul>
<li>Removing <code>preload: { enabled: false }</code> enables connection to the bottom two nodes from the above bootstrap list.</li>
<li>Removing <code>config: {  Bootstrap: [], Addresses: { Swarm: [] } }</code> will prevent thie storing of empty arrays in your config files for the <code>Bootstrap</code> and <code>Addresses.Swarm</code> config keys</li>
<li><code>this.node.bootstrap.add(undefined, { default: true })</code> restores the default list of bootstrap peers, as seen above</li>
<li><code>NPP.node.config.set(&quot;Addresses.Swarm&quot;, ...</code> restores the default swarm addresses. You should have run this in node.js only</li>
<li><code>relay: { enabled: true, hop: { enabled: true, active: true } }</code> sets up a your node as a &quot;circut relay&quot;, which means that others will be able to &quot;hop&quot; through your node to connect to your peers, and your node will hop over others to do the same.</li>
</ul>
<blockquote>
<p><strong>Note:</strong> If you experience 529 errors from the <code>preload.ipfs.io</code> servers in your console, rest assured that there is nothing wrong with your app. Those servers exist to strengthen the network and increase application performance but they are <em>not</em> necessary. You can reinsert <code>preload: { enabled: false }</code> any time and still remain connected to the global IPFS network</p>
</blockquote>
<h3 id="working-with-peers">Working with peers</h3>
<p>We realize we've been spending a lot of time in IPFS config and IPFS commands - it's understandable, since the IPFS features form the backbone of what we're doing with OrbitDB. However, let's get back to editing our <code>NewPieacePlease</code> class by creating some p2p functions:</p>
<h4 id="getting-a-list-of-peers">Getting a list of peers</h4>
<p>First, you'll create the <code>getPeers</code> function inside of the <code>NewPiecePlease</code> class.</p>
<div class="sourceCode"><pre class="sourceCode javascript"><code class="sourceCode javascript">async <span class="at">getPeers</span>() <span class="op">{</span>
  <span class="kw">const</span> peers <span class="op">=</span> await <span class="kw">this</span>.<span class="va">node</span>.<span class="va">swarm</span>.<span class="at">peers</span>()
  <span class="cf">return</span> peers
<span class="op">}</span></code></pre></div>
<p>You can run this in your application code:</p>
<div class="sourceCode"><pre class="sourceCode javascript"><code class="sourceCode javascript"><span class="kw">const</span> peers <span class="op">=</span> await <span class="va">NPP</span>.<span class="at">getPeers</span>()
<span class="va">console</span>.<span class="at">log</span>(<span class="va">peers</span>.<span class="at">length</span>)</code></pre></div>
<p>This will console out a number close to <code>10</code>, which is the length of your bootstrap peers. This number will stay the same in the browser and increase in node.js due to the current swarming limitations of <code>js-ipfs</code></p>
<h4 id="connecting-to-peers">Connecting to peers</h4>
<p>Next, you'll allow your users to connect to other peers via their <em>multiaddresses</em>.</p>
<p>There's a number of ways to model and test this during development - you could open up two browsers, or a public and private window in the same browser. Similarly, you could run one instance of the app in node.js and the other in the browser. You should be able to connect to all.</p>
<p>In this book we will deal with the simplest possible scenario: two peers. They will be called simply <strong>Peer1</strong> and <strong>Peer2</strong>.</p>
<p>You can get the addresses that your node is publishing on via the following command:</p>
<div class="sourceCode"><pre class="sourceCode javascript"><code class="sourceCode javascript"><span class="kw">const</span> id <span class="op">=</span> await <span class="va">NPP</span>.<span class="va">node</span>.<span class="at">id</span>()
<span class="va">console</span>.<span class="at">log</span>(<span class="va">id</span>.<span class="at">addresses</span>)</code></pre></div>
<p>You'll see a list of addresses your node is publishing on. Expect the browser to have only 2, and node.js to have more. Since we're dealing with both node.js and the browser, we will use the addresses starting with <code>p2p-circut</code>.</p>
<p>You can now enable peer connection by adding this function to the <code>NewPiecePlease</code> class:</p>
<div class="sourceCode"><pre class="sourceCode javascript"><code class="sourceCode javascript">async <span class="at">connectToPeer</span>(addr) <span class="op">{</span>
  async <span class="at">connectToPeer</span>(multiaddr) <span class="op">{</span>
  <span class="cf">try</span> <span class="op">{</span>
    await <span class="kw">this</span>.<span class="va">node</span>.<span class="va">swarm</span>.<span class="at">connect</span>(multiaddr)
    <span class="cf">return</span> <span class="kw">true</span>
  <span class="op">}</span> <span class="cf">catch</span>(e) <span class="op">{</span>
    <span class="cf">throw</span> (e)
    <span class="cf">return</span> <span class="kw">false</span>
  <span class="op">}</span>
<span class="op">}</span></code></pre></div>
<p>Finally, connect to other peers like so:</p>
<div class="sourceCode"><pre class="sourceCode javascript"><code class="sourceCode javascript"><span class="kw">const</span> success <span class="op">=</span> <span class="va">NPP</span>.<span class="at">connectToPeer</span>(<span class="st">&quot;/p2p-circuit/ipfs/QmWxWkrCcgNBG2uf1HSVAwb9RzcSYYC2d6CRsfJcqrz2FX&quot;</span>)
<span class="cf">if</span>(success) <span class="co">/* do stuff */</span></code></pre></div>
<h4 id="what-just-happened-13">What just happened?</h4>
<p>You created 2 functions: one that shows a list of peers and another that lets you connect to peers via their multiaddress.</p>
<ul>
<li>blahblah</li>
</ul>
<h3 id="peer-to-peer-communication-via-ipfs-pubsub">Peer to peer communication via IPFS pubsub</h3>
<p>The &quot;pubsub&quot; in IPFS pubsub is derived from &quot;publish&quot; and &quot;subscribe&quot; which is a common messaging model in distributed systems. You can leverage the underlying IPFS infrastructure to create a simple communication mechanism between the users of your app.</p>
<h4 id="subscribing-to-your-channel">Subscribing to &quot;your&quot; channel</h4>
<p>First, you'll add some code to allow you to subscribe to a channel. Channels have names, and in this case you'll just use the node ID.</p>
<p>Update the <code>ready</code> handler in the <code>NewPiecePlease</code> constructor to look like the following:</p>
<div class="sourceCode"><pre class="sourceCode javascript"><code class="sourceCode javascript"><span class="kw">this</span>.<span class="va">node</span>.<span class="at">on</span>(<span class="st">&quot;ready&quot;</span><span class="op">,</span> <span class="at">async</span> () <span class="op">=&gt;</span> <span class="op">{</span>
  <span class="kw">const</span> nodeId <span class="op">=</span> await <span class="kw">this</span>.<span class="va">node</span>.<span class="at">id</span>()
  <span class="kw">this</span>.<span class="at">orbitdb</span> <span class="op">=</span> await <span class="va">OrbitDB</span>.<span class="at">createInstance</span>(<span class="kw">this</span>.<span class="at">node</span>)
  <span class="kw">this</span>.<span class="at">defaultOptions</span> <span class="op">=</span> <span class="op">{</span> <span class="dt">accessController</span><span class="op">:</span> <span class="op">{</span> <span class="dt">write</span><span class="op">:</span> [<span class="kw">this</span>.<span class="va">orbitdb</span>.<span class="va">identity</span>.<span class="at">publicKey</span>] <span class="op">}}</span>

  <span class="kw">const</span> docStoreOptions <span class="op">=</span> <span class="va">Object</span>.<span class="at">assign</span>(<span class="kw">this</span>.<span class="at">defaultOptions</span><span class="op">,</span> <span class="op">{</span> <span class="dt">indexBy</span><span class="op">:</span> <span class="st">&#39;hash&#39;</span> <span class="op">}</span>)
  <span class="kw">this</span>.<span class="at">piecesDb</span> <span class="op">=</span> await <span class="kw">this</span>.<span class="va">orbitdb</span>.<span class="at">docstore</span>(<span class="st">&#39;pieces&#39;</span><span class="op">,</span> docStoreOptions)
  await <span class="kw">this</span>.<span class="va">piecesDb</span>.<span class="at">load</span>()

  <span class="kw">this</span>.<span class="at">userDb</span> <span class="op">=</span> await <span class="kw">this</span>.<span class="va">orbitdb</span>.<span class="at">kvstore</span>(<span class="st">&quot;user&quot;</span><span class="op">,</span> <span class="kw">this</span>.<span class="at">defaultOptions</span>)
  await <span class="kw">this</span>.<span class="va">userDb</span>.<span class="at">load</span>()

  await <span class="kw">this</span>.<span class="va">userDb</span>.<span class="at">set</span>(<span class="st">&#39;pieces&#39;</span><span class="op">,</span> <span class="kw">this</span>.<span class="va">piecesDb</span>.<span class="at">id</span>)
  await <span class="kw">this</span>.<span class="va">userDb</span>.<span class="at">set</span>(<span class="st">&quot;nodeId&quot;</span><span class="op">,</span> <span class="va">nodeId</span>.<span class="at">id</span>)

  await <span class="kw">this</span>.<span class="va">node</span>.<span class="va">pubsub</span>.<span class="at">subscribe</span>(<span class="va">nodeId</span>.<span class="at">id</span><span class="op">,</span> <span class="kw">this</span>.<span class="at">onmessage</span>)
  <span class="cf">if</span> (<span class="kw">typeof</span> <span class="kw">this</span>.<span class="at">onready</span> <span class="op">===</span> <span class="st">&quot;function&quot;</span>) <span class="kw">this</span>.<span class="at">onready</span>()
<span class="op">}</span>)<span class="op">;</span></code></pre></div>
<p>Then, add the <code>onmessage</code> and <code>sendMessage</code> function to <code>NewPiecePlease</code></p>
<div class="sourceCode"><pre class="sourceCode javascript"><code class="sourceCode javascript"><span class="at">onmessage</span>(msg) <span class="op">{</span>
  <span class="va">console</span>.<span class="at">log</span>(msg)
<span class="op">}</span></code></pre></div>
<p>This will output something like:</p>
<div class="sourceCode"><pre class="sourceCode json"><code class="sourceCode json"><span class="fu">{</span>
  <span class="dt">&quot;from&quot;</span><span class="fu">:</span> <span class="st">&quot;QmVQYfz7Ksimx8a4kqWJinX9BqoiYM5BQVyoCvotVDjj6P&quot;</span><span class="fu">,</span>
  <span class="dt">&quot;data&quot;</span><span class="fu">:</span> <span class="st">&quot;&lt;Buffer 64 61 74 61&gt;&quot;</span><span class="fu">,</span>
  <span class="dt">&quot;seqno&quot;</span><span class="fu">:</span> <span class="st">&quot;&lt;Buffer 78 3e 6b 8c fd de 5d 7b 27 ab e4 e0 c9 72 4e c0 aa ee 94 20&gt;&quot;</span><span class="fu">,</span>
  <span class="dt">&quot;topicIDs&quot;</span><span class="fu">:</span> <span class="ot">[</span> <span class="st">&quot;QmXG8yk8UJjMT6qtE2zSxzz3U7z5jSYRgVWLCUFqAVnByM&quot;</span> <span class="ot">]</span>
<span class="fu">}</span></code></pre></div>
<p>What you do with the message output is yours once you override the <code>NPP.onmessage</code> function in your application code.</p>
<div class="sourceCode"><pre class="sourceCode javascript"><code class="sourceCode javascript"><span class="va">NPP</span>.<span class="at">onmessage</span> <span class="op">=</span> (msg) <span class="op">=&gt;</span> <span class="op">{</span>
  <span class="va">console</span>.<span class="at">log</span>(<span class="va">msg</span>.<span class="va">data</span>.<span class="at">toString</span>())
<span class="op">}</span></code></pre></div>
<p>Then, when a message is received, you'll receive the data in a much more human-readable format.</p>
<h4 id="sending-messages-to-peers">Sending messages to peers</h4>
<p>Next you'll give your users the ability to send messages to each other via those pubsub topics.</p>
<div class="sourceCode"><pre class="sourceCode javascript"><code class="sourceCode javascript">async <span class="at">sendMessage</span>(topic<span class="op">,</span> message<span class="op">,</span> callback) <span class="op">{</span>
  <span class="cf">try</span> <span class="op">{</span>
    message <span class="op">=</span> <span class="kw">this</span>.<span class="va">node</span>.<span class="va">types</span>.<span class="at">Buffer</span>(message)
    await <span class="kw">this</span>.<span class="va">node</span>.<span class="va">pubsub</span>.<span class="at">publish</span>(topic<span class="op">,</span> message)
  <span class="op">}</span> <span class="cf">catch</span> (e) <span class="op">{</span>
    <span class="at">callback</span>(e)
  <span class="op">}</span>
<span class="op">}</span></code></pre></div>
<p>You can then utilize this function in your application code, and your user will see the output as defined above.</p>
<div class="sourceCode"><pre class="sourceCode javascript"><code class="sourceCode javascript"><span class="kw">let</span> data <span class="co">// can be any JSON-serializable value</span>
<span class="kw">var</span> hash <span class="op">=</span> <span class="st">&quot;QmXG8yk8UJjMT6qtE2zSxzz3U7z5jSYRgVWLCUFqAVnByM&quot;</span><span class="op">;</span>
<span class="kw">var</span> callback <span class="op">=</span> <span class="va">console</span>.<span class="at">error</span>
await <span class="va">NPP</span>.<span class="at">sendMessage</span>(hash<span class="op">,</span> data<span class="op">,</span> callback)</code></pre></div>
<h4 id="what-just-happened-14">What just happened?</h4>
<blockquote>
<p><strong>Note:</strong> These techniques presented for <em>educational purposes only</em>, with no consideration as to security or privacy. You should be encrypting and signing messages at the application level. More on this in Chapter 6 of the tutorial.</p>
</blockquote>
<h3 id="key-takeaways-3">Key Takeaways</h3>
<ul>
<li>Resolves #<a href="https://github.com/orbitdb/orbit-db/issues/463">463</a></li>
<li>Resolves #<a href="https://github.com/orbitdb/orbit-db/issues/468">468</a></li>
<li>Resolves #<a href="https://github.com/orbitdb/orbit-db/issues/471">471</a></li>
<li>Resolves #<a href="https://github.com/orbitdb/orbit-db/issues/498">498</a></li>
<li>Resolves #<a href="https://github.com/orbitdb/orbit-db/issues/519">519</a></li>
<li>Resolves #<a href="https://github.com/orbitdb/orbit-db/issues/296">296</a></li>
<li>Resolves #<a href="https://github.com/orbitdb/orbit-db/issues/264">264</a></li>
<li>Resolves #<a href="https://github.com/orbitdb/orbit-db/issues/460">460</a></li>
<li>Resolves #<a href="https://github.com/orbitdb/orbit-db/issues/484">484</a></li>
<li>Resolves #<a href="https://github.com/orbitdb/orbit-db/issues/474">474</a></li>
<li>Resolves #<a href="https://github.com/orbitdb/orbit-db/issues/505">505</a></li>
<li>Resolves #<a href="https://github.com/orbitdb/orbit-db/issues/496">496</a></li>
</ul>
<p>Now, move on to <a href="./05_P2P_Part_2.md">Chapter 05 - Peer to Peer Part 2</a> ## Chapter 5: Peer-to-Peer Part 2 (OrbitDB)</p>
<blockquote>
<p>TODO: Description</p>
</blockquote>
<div>
<h3>
Table of Contents
</h3>
<p>Please complete <a href="./04_P2P_Part_1.md">Chapter 4 - Peer to Peer</a> first.</p>
<ul>
<li><a href="#connecting-to-another-peers-database">Connecting to another peer's database</a></li>
<li><a href="#key-takeaways">Key takeaways</a></li>
</ul>
</div>
<h3 id="connecting-to-another-peers-database">Connecting to another peer's database</h3>
<p>To share data between peers, you will need to know their OrbitDB address. Unforutately, simply connecting to a peer is not enough, since there's not an simple way to obtain databases address from a simply IPFS peer-to-peer connection. To remedy this, you'll write your OrbitDB address to IPFS. Then, you'll share the hash to peers you want to connect to.</p>
<p>It will be helpful to ensure you are connected to the peer first, via the steps in the previous chapter.</p>
<p>Create a function called <code>processMessage</code> and update <code>connectToOrbitDb</code> inside the <code>NewPiecePlease</code> class:</p>
<div class="sourceCode"><pre class="sourceCode diff"><code class="sourceCode diff">     &lt;body&gt;
         &lt;nav&gt;
<span class="st">-            &lt;a href=&quot;#&quot;&gt;Link 1&lt;/a&gt;</span>
<span class="st">-            &lt;a href=&quot;#&quot;&gt;Link 2&lt;/a&gt;</span>
<span class="va">+            &lt;h1&gt;New Piece Please&lt;/h1&gt;</span>
<span class="va">+</span>
<span class="va">+            &lt;form id=&quot;getRandomByInstrumentForm&quot;&gt;</span>
<span class="va">+                &lt;slot name=&quot;instrumentList&quot;&gt;&lt;/slot&gt;</span>
<span class="va">+                &lt;input type=&quot;submit&quot; value=&quot;New Piece, Please!&quot; /&gt;</span>
<span class="va">+            &lt;/form&gt;</span>
<span class="va">+</span>
<span class="va">+</span>
<span class="va">+            &lt;h3&gt;User Profile&lt;/h3&gt;</span>
<span class="va">+            &lt;dl id=&quot;profileList&quot;&gt;&lt;/dl&gt;</span>
<span class="va">+</span>
<span class="va">+</span>
<span class="va">+            &lt;form id=&quot;getByHashForm&quot;&gt;</span>
<span class="va">+                &lt;h3&gt;Get score by IPFS hash&lt;/h3&gt;</span>
<span class="va">+                &lt;label&gt;Get from hash: &lt;input type=&quot;input&quot; name=&quot;hash&quot; /&gt;&lt;/label&gt;</span>
<span class="va">+                &lt;input type=&quot;submit&quot; value=&quot;New Piece, Please!&quot; /&gt;</span>
<span class="va">+            &lt;/form&gt;</span>
         &lt;/nav&gt;


<span class="va">+ async connectToOrbitDb(multiaddr) {</span>
  try {
    var peerDb = await this.orbitdb.keyvalue(multiaddr)
    await peerDb.load()

    var peers = Object.assign({}, this.userDb.get(&quot;peers&quot;))
    peers[peerDb.id] = peerDb._index._index
    console.log(peers)
  } catch (e) {
    throw (e)
  }
}

processMessage(msg) {
  const parsedMsg = JSON.parse(msg.data.toString())
  Object.keys(parsedMsg).forEach(async (key) =&gt; {
    switch(key) {
      case &quot;userDb&quot;:
        this.connectToOrbitDb(parsedMsg.userDb)
        const peerDb = await this.orbitdb.keyvalue(parsedMsg.userDb)
        this.sendMessage(peerDb.get(&quot;nodeId&quot;), {
          userDb: this.userDb.id
        })
        break;
      default:
        break;
    }
  })
}</code></pre></div>
<p>Inside your application code, you can use it like so:</p>
<div class="sourceCode"><pre class="sourceCode javascript"><code class="sourceCode javascript"></code></pre></div>
<h3 id="replication-vs.-duplication">Replication vs. Duplication</h3>
<h3 id="key-takeaways-4">Key takeaways</h3>
<p>Continue to <a href="./06_Identity_Permissions.md">Chapter 6</a> to learn about how you can vastly extend the identity and access control capabilities of OrbitDB ## Chapter 6: Identity and Permissions</p>
<blockquote>
<p><strong>Note:</strong> Please complete <a href="./05_Replication.md">Chapter 5 - Replication</a> first.</p>
</blockquote>
<h3 id="access-control">Access Control</h3>
<h3 id="identity-management">Identity Management</h3>
<h3 id="security-disclosures">Security Disclosures</h3>
<ul>
<li>Resolves: #<a href="https://github.com/orbitdb/orbit-db/issues/397">397</a></li>
<li>Resolves: #<a href="https://github.com/orbitdb/orbit-db/issues/222">222</a></li>
<li>Resolves: #<a href="https://github.com/orbitdb/orbit-db/issues/327">327</a></li>
<li>Resolves: #<a href="https://github.com/orbitdb/orbit-db/issues/357">357</a></li>
<li>Resolves: #<a href="https://github.com/orbitdb/orbit-db/issues/475">475</a></li>
<li>Resolves: #<a href="https://github.com/orbitdb/orbit-db/issues/380">380</a></li>
<li>Resolves: #<a href="https://github.com/orbitdb/orbit-db/issues/458">458</a></li>
<li>Resolves: #<a href="https://github.com/orbitdb/orbit-db/issues/467">467</a></li>
</ul>
<h3 id="conclusion">Conclusion</h3>
<p>The end! ## Conclusion</p>
